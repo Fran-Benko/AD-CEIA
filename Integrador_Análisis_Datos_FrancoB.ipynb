{
  "nbformat": 4,
  "nbformat_minor": 0,
  "metadata": {
    "colab": {
      "name": "Integrador_Análisis_Datos_FrancoB.ipynb",
      "provenance": [],
      "collapsed_sections": []
    },
    "kernelspec": {
      "name": "python3",
      "display_name": "Python 3"
    },
    "language_info": {
      "name": "python"
    }
  },
  "cells": [
    {
      "cell_type": "markdown",
      "metadata": {
        "id": "mt8Ob7e16X3C"
      },
      "source": [
        "# Análisis de datos - Trabajo final integrador\n",
        "\n",
        "<img src=\"https://encrypted-tbn0.gstatic.com/images?q=tbn:ANd9GcQATNC-EBwF-LIbDVv_L0gkP2V6oKQzah5GRg&usqp=CAU\"/>\n",
        "\n",
        "Se propone realizar el ciclo completo del desarrollo de un modelo de aprendizaje automático supervisado.\n",
        "\n",
        "Trabajaremos con un [dataset de Kaggle con datos de por distintas estaciones metereológicas de Australia](https://www.kaggle.com/jsphyg/weather-dataset-rattle-package?select=weatherAUS.csv).\n",
        "\n",
        "El objetivo es predecir si lloverá o no al día siguiente (variable *RainTomorrow*), en función datos metereológicos del día actual.\n"
      ]
    },
    {
      "cell_type": "markdown",
      "metadata": {
        "id": "FL1aYkP79FwE"
      },
      "source": [
        "## Enunciado\n",
        "\n",
        "- Descargar el [dataset de kaggle](https://www.kaggle.com/jsphyg/weather-dataset-rattle-package?select=weatherAUS.csv)\n",
        "\n",
        "### 1. Análisis exploratorio inicial\n",
        "\n",
        "- Visualizar las primeras filas.\n",
        "- Realizar un resumen de 5 números.\n",
        "- Identificar los tipos de datos: categórico, ordinal, etc. Responder para cada variable su tipo y si es informativa para un problema de clasificación (por ejemplo si se trata de un código, como una matrícula, o un nombre propio).\n",
        "- Identificar las variables de entrada y de salida del problema.\n",
        "- Variables de entrada:\n",
        "  - Realizar los siguientes análisis por tipo de variable.\n",
        "    - Numéricas: \n",
        "      - Obtener conclusiones acerca de la distribución de los datos.\n",
        "    - Categóricas\n",
        "        - Obtener conclusiones acerca de cardinalidad, representación de cada categoría, etc.\n",
        "    - Compuestas/otros. ¿Cómo pueden tratarse para utilizarlas en el problema elegido?\n",
        "- Variables de salida:\n",
        "  - ¿Están balanceadas las clases?\n",
        "  - ¿Qué técnicas consideraría para codificar la variable de salida? Justificar.\n",
        "\n",
        "### 2. Esquema de validación de resultados\n",
        "\n",
        "- Los pasos siguientes comprenden las etapas de preparación de datos y evaluación de resultados. \n",
        "- Para ello, se debe particionar el dataset en entrenamiento y validación.\n",
        "\n",
        "### 3. Limpieza y preparación de datos / ingeniería de features\n",
        "\n",
        "- Datos faltantes. Indicar cantidad de observaciones y valores faltantes para cada variable.\n",
        "- ¿Qué supuestos puede realizar acerca de los datos faltantes? ¿Qué técnicas de imputación recomendaría?. Ensayar distintas técnicas y analizar los resultados. \n",
        "- En función del estudio inicial de las variables que se hizo en la sección anterior, elegir una técnica de codificación para cada variable. Cuando lo considere apropiado, ensayar distintas técnicas y comparar los resultados, teniendo en cuenta el tipo de clasificador a utilizar. Nota: para tipos de datos compuestos o estructurados, considerar la obtención de variables de tipo númerico/categórico.\n",
        "- ¿Qué puede decir acerca de las relaciones entre las variables de entrada?\n",
        "\n",
        "- Antes de entrenar un modelo de aprendizaje automático, ¿Podría identificar las variables de entrada de mayor importancia?. Considerar por lo menos dos técnicas para cada variable. Explique brevemente los métodos utilizados.\n",
        "\n",
        "### 4. Entrenamiento de modelos\n",
        "\n",
        "- Recurriendo a los modelos que conozca, defina una lista de modelos candidatos a entrenar (puede ser el mismo tipo de clasificador con distintos hiperparámetros). Nota: no se contemplará el desempeño del modelo elegido, sino las conclusiones que puedan establecerse a partir de la preparación previa de los datos.\n",
        "\n",
        "- Ensaye distintas cadenas de procesamiento con las técnicas consideradas en la sección 3 (por ejemplo, distintas técnicas de imputación, selección de variables de entrada, codificación de variables categóricas, transformación, etc.).\n",
        "\n",
        "### 5. Evaluación de resultados y conclusiones\n",
        "\n",
        "- ¿Qué puede concluir acerca de los modelos y preparaciones de datos ensayadas? Tener en cuenta como cada preparación afecta a los distintos modelos.\n",
        "\n",
        "### 6. Presentación de resultados\n",
        "\n",
        "- Elabore un informe de dos o tres páginas describiendo el procedimiento realizado y las conclusiones importantes indicando la ruta del código fuente en git.\n"
      ]
    },
    {
      "cell_type": "markdown",
      "metadata": {
        "id": "R0mVOsntPub2"
      },
      "source": [
        "## Importacion de Librerias"
      ]
    },
    {
      "cell_type": "code",
      "metadata": {
        "id": "CnY5HoEVPuj_"
      },
      "source": [
        "import pandas as pd\n",
        "import numpy as np\n",
        "import matplotlib.pyplot as plt\n",
        "import seaborn as sns\n",
        "import scipy.stats as stats\n",
        "\n",
        "from sklearn.preprocessing import LabelEncoder\n",
        "\n",
        "from sklearn.impute import KNNImputer\n",
        "\n",
        "from sklearn.feature_selection import mutual_info_classif\n",
        "\n",
        "from sklearn.metrics import f1_score\n",
        "from sklearn.metrics import accuracy_score\n",
        "from sklearn.metrics import confusion_matrix, accuracy_score, roc_curve, auc\n",
        "from sklearn.metrics import classification_report\n",
        "from sklearn.model_selection import GridSearchCV\n",
        "from sklearn.model_selection import train_test_split\n",
        "\n",
        "\n",
        "from sklearn.neighbors import KNeighborsClassifier\n",
        "from sklearn.linear_model import LogisticRegression\n",
        "from sklearn.tree import DecisionTreeClassifier\n",
        "from sklearn.ensemble import RandomForestClassifier\n",
        "from sklearn.naive_bayes import GaussianNB\n",
        "from sklearn.svm import SVC\n",
        "from sklearn.ensemble import ExtraTreesClassifier\n",
        "from sklearn.ensemble import AdaBoostClassifier\n",
        "\n",
        "import xgboost as xgb\n",
        "from xgboost.sklearn import XGBClassifier"
      ],
      "execution_count": 1,
      "outputs": []
    },
    {
      "cell_type": "markdown",
      "metadata": {
        "id": "BaU4nRuLPuqZ"
      },
      "source": [
        "## Importo los datos"
      ]
    },
    {
      "cell_type": "code",
      "metadata": {
        "colab": {
          "base_uri": "https://localhost:8080/"
        },
        "id": "DiMZVe9KQNqE",
        "outputId": "d98a2b23-7adb-4513-dcca-bb3a8bc3f0db"
      },
      "source": [
        "from google.colab import drive\n",
        "drive.mount('/content/drive')"
      ],
      "execution_count": 2,
      "outputs": [
        {
          "output_type": "stream",
          "text": [
            "Mounted at /content/drive\n"
          ],
          "name": "stdout"
        }
      ]
    },
    {
      "cell_type": "code",
      "metadata": {
        "colab": {
          "base_uri": "https://localhost:8080/",
          "height": 226
        },
        "id": "WsEt4bDOPuyT",
        "outputId": "c6d86a44-e780-470a-f2e4-8e4d5b512c76"
      },
      "source": [
        "df = pd.read_csv('/content/drive/MyDrive/weatherAUS.csv')\n",
        "df.head()"
      ],
      "execution_count": 3,
      "outputs": [
        {
          "output_type": "execute_result",
          "data": {
            "text/html": [
              "<div>\n",
              "<style scoped>\n",
              "    .dataframe tbody tr th:only-of-type {\n",
              "        vertical-align: middle;\n",
              "    }\n",
              "\n",
              "    .dataframe tbody tr th {\n",
              "        vertical-align: top;\n",
              "    }\n",
              "\n",
              "    .dataframe thead th {\n",
              "        text-align: right;\n",
              "    }\n",
              "</style>\n",
              "<table border=\"1\" class=\"dataframe\">\n",
              "  <thead>\n",
              "    <tr style=\"text-align: right;\">\n",
              "      <th></th>\n",
              "      <th>Date</th>\n",
              "      <th>Location</th>\n",
              "      <th>MinTemp</th>\n",
              "      <th>MaxTemp</th>\n",
              "      <th>Rainfall</th>\n",
              "      <th>Evaporation</th>\n",
              "      <th>Sunshine</th>\n",
              "      <th>WindGustDir</th>\n",
              "      <th>WindGustSpeed</th>\n",
              "      <th>WindDir9am</th>\n",
              "      <th>WindDir3pm</th>\n",
              "      <th>WindSpeed9am</th>\n",
              "      <th>WindSpeed3pm</th>\n",
              "      <th>Humidity9am</th>\n",
              "      <th>Humidity3pm</th>\n",
              "      <th>Pressure9am</th>\n",
              "      <th>Pressure3pm</th>\n",
              "      <th>Cloud9am</th>\n",
              "      <th>Cloud3pm</th>\n",
              "      <th>Temp9am</th>\n",
              "      <th>Temp3pm</th>\n",
              "      <th>RainToday</th>\n",
              "      <th>RainTomorrow</th>\n",
              "    </tr>\n",
              "  </thead>\n",
              "  <tbody>\n",
              "    <tr>\n",
              "      <th>0</th>\n",
              "      <td>2008-12-01</td>\n",
              "      <td>Albury</td>\n",
              "      <td>13.4</td>\n",
              "      <td>22.9</td>\n",
              "      <td>0.6</td>\n",
              "      <td>NaN</td>\n",
              "      <td>NaN</td>\n",
              "      <td>W</td>\n",
              "      <td>44.0</td>\n",
              "      <td>W</td>\n",
              "      <td>WNW</td>\n",
              "      <td>20.0</td>\n",
              "      <td>24.0</td>\n",
              "      <td>71.0</td>\n",
              "      <td>22.0</td>\n",
              "      <td>1007.7</td>\n",
              "      <td>1007.1</td>\n",
              "      <td>8.0</td>\n",
              "      <td>NaN</td>\n",
              "      <td>16.9</td>\n",
              "      <td>21.8</td>\n",
              "      <td>No</td>\n",
              "      <td>No</td>\n",
              "    </tr>\n",
              "    <tr>\n",
              "      <th>1</th>\n",
              "      <td>2008-12-02</td>\n",
              "      <td>Albury</td>\n",
              "      <td>7.4</td>\n",
              "      <td>25.1</td>\n",
              "      <td>0.0</td>\n",
              "      <td>NaN</td>\n",
              "      <td>NaN</td>\n",
              "      <td>WNW</td>\n",
              "      <td>44.0</td>\n",
              "      <td>NNW</td>\n",
              "      <td>WSW</td>\n",
              "      <td>4.0</td>\n",
              "      <td>22.0</td>\n",
              "      <td>44.0</td>\n",
              "      <td>25.0</td>\n",
              "      <td>1010.6</td>\n",
              "      <td>1007.8</td>\n",
              "      <td>NaN</td>\n",
              "      <td>NaN</td>\n",
              "      <td>17.2</td>\n",
              "      <td>24.3</td>\n",
              "      <td>No</td>\n",
              "      <td>No</td>\n",
              "    </tr>\n",
              "    <tr>\n",
              "      <th>2</th>\n",
              "      <td>2008-12-03</td>\n",
              "      <td>Albury</td>\n",
              "      <td>12.9</td>\n",
              "      <td>25.7</td>\n",
              "      <td>0.0</td>\n",
              "      <td>NaN</td>\n",
              "      <td>NaN</td>\n",
              "      <td>WSW</td>\n",
              "      <td>46.0</td>\n",
              "      <td>W</td>\n",
              "      <td>WSW</td>\n",
              "      <td>19.0</td>\n",
              "      <td>26.0</td>\n",
              "      <td>38.0</td>\n",
              "      <td>30.0</td>\n",
              "      <td>1007.6</td>\n",
              "      <td>1008.7</td>\n",
              "      <td>NaN</td>\n",
              "      <td>2.0</td>\n",
              "      <td>21.0</td>\n",
              "      <td>23.2</td>\n",
              "      <td>No</td>\n",
              "      <td>No</td>\n",
              "    </tr>\n",
              "    <tr>\n",
              "      <th>3</th>\n",
              "      <td>2008-12-04</td>\n",
              "      <td>Albury</td>\n",
              "      <td>9.2</td>\n",
              "      <td>28.0</td>\n",
              "      <td>0.0</td>\n",
              "      <td>NaN</td>\n",
              "      <td>NaN</td>\n",
              "      <td>NE</td>\n",
              "      <td>24.0</td>\n",
              "      <td>SE</td>\n",
              "      <td>E</td>\n",
              "      <td>11.0</td>\n",
              "      <td>9.0</td>\n",
              "      <td>45.0</td>\n",
              "      <td>16.0</td>\n",
              "      <td>1017.6</td>\n",
              "      <td>1012.8</td>\n",
              "      <td>NaN</td>\n",
              "      <td>NaN</td>\n",
              "      <td>18.1</td>\n",
              "      <td>26.5</td>\n",
              "      <td>No</td>\n",
              "      <td>No</td>\n",
              "    </tr>\n",
              "    <tr>\n",
              "      <th>4</th>\n",
              "      <td>2008-12-05</td>\n",
              "      <td>Albury</td>\n",
              "      <td>17.5</td>\n",
              "      <td>32.3</td>\n",
              "      <td>1.0</td>\n",
              "      <td>NaN</td>\n",
              "      <td>NaN</td>\n",
              "      <td>W</td>\n",
              "      <td>41.0</td>\n",
              "      <td>ENE</td>\n",
              "      <td>NW</td>\n",
              "      <td>7.0</td>\n",
              "      <td>20.0</td>\n",
              "      <td>82.0</td>\n",
              "      <td>33.0</td>\n",
              "      <td>1010.8</td>\n",
              "      <td>1006.0</td>\n",
              "      <td>7.0</td>\n",
              "      <td>8.0</td>\n",
              "      <td>17.8</td>\n",
              "      <td>29.7</td>\n",
              "      <td>No</td>\n",
              "      <td>No</td>\n",
              "    </tr>\n",
              "  </tbody>\n",
              "</table>\n",
              "</div>"
            ],
            "text/plain": [
              "         Date Location  MinTemp  ...  Temp3pm  RainToday  RainTomorrow\n",
              "0  2008-12-01   Albury     13.4  ...     21.8         No            No\n",
              "1  2008-12-02   Albury      7.4  ...     24.3         No            No\n",
              "2  2008-12-03   Albury     12.9  ...     23.2         No            No\n",
              "3  2008-12-04   Albury      9.2  ...     26.5         No            No\n",
              "4  2008-12-05   Albury     17.5  ...     29.7         No            No\n",
              "\n",
              "[5 rows x 23 columns]"
            ]
          },
          "metadata": {
            "tags": []
          },
          "execution_count": 3
        }
      ]
    },
    {
      "cell_type": "markdown",
      "metadata": {
        "id": "3Fmf4ed5RL4K"
      },
      "source": [
        "## Comienzo con la exploracion del dataset."
      ]
    },
    {
      "cell_type": "code",
      "metadata": {
        "colab": {
          "base_uri": "https://localhost:8080/"
        },
        "id": "j8ALL7WeSolG",
        "outputId": "ecd32b8d-ab16-4848-dd11-ecef784640e7"
      },
      "source": [
        "df.shape"
      ],
      "execution_count": null,
      "outputs": [
        {
          "output_type": "execute_result",
          "data": {
            "text/plain": [
              "(145460, 23)"
            ]
          },
          "metadata": {
            "tags": []
          },
          "execution_count": 4
        }
      ]
    },
    {
      "cell_type": "markdown",
      "metadata": {
        "id": "KcUvI35iRT-F"
      },
      "source": [
        "### Datatypes"
      ]
    },
    {
      "cell_type": "code",
      "metadata": {
        "colab": {
          "base_uri": "https://localhost:8080/"
        },
        "id": "nMOng03FQf0C",
        "outputId": "bda80a3c-c631-4f4c-9e84-240129ae413d"
      },
      "source": [
        "df.dtypes"
      ],
      "execution_count": null,
      "outputs": [
        {
          "output_type": "execute_result",
          "data": {
            "text/plain": [
              "Date              object\n",
              "Location          object\n",
              "MinTemp          float64\n",
              "MaxTemp          float64\n",
              "Rainfall         float64\n",
              "Evaporation      float64\n",
              "Sunshine         float64\n",
              "WindGustDir       object\n",
              "WindGustSpeed    float64\n",
              "WindDir9am        object\n",
              "WindDir3pm        object\n",
              "WindSpeed9am     float64\n",
              "WindSpeed3pm     float64\n",
              "Humidity9am      float64\n",
              "Humidity3pm      float64\n",
              "Pressure9am      float64\n",
              "Pressure3pm      float64\n",
              "Cloud9am         float64\n",
              "Cloud3pm         float64\n",
              "Temp9am          float64\n",
              "Temp3pm          float64\n",
              "RainToday         object\n",
              "RainTomorrow      object\n",
              "dtype: object"
            ]
          },
          "metadata": {
            "tags": []
          },
          "execution_count": 5
        }
      ]
    },
    {
      "cell_type": "markdown",
      "metadata": {
        "id": "ALszCLQ1Rjmm"
      },
      "source": [
        "### Porcentaje de valores nulos\n",
        "\n",
        "\n"
      ]
    },
    {
      "cell_type": "code",
      "metadata": {
        "colab": {
          "base_uri": "https://localhost:8080/"
        },
        "id": "_87ZkK7fRi9P",
        "outputId": "c9f1f91d-aaf0-4d8b-e561-813826a2d216"
      },
      "source": [
        "df.isnull().sum() / df.shape[0] * 100"
      ],
      "execution_count": null,
      "outputs": [
        {
          "output_type": "execute_result",
          "data": {
            "text/plain": [
              "Date              0.000000\n",
              "Location          0.000000\n",
              "MinTemp           1.020899\n",
              "MaxTemp           0.866905\n",
              "Rainfall          2.241853\n",
              "Evaporation      43.166506\n",
              "Sunshine         48.009762\n",
              "WindGustDir       7.098859\n",
              "WindGustSpeed     7.055548\n",
              "WindDir9am        7.263853\n",
              "WindDir3pm        2.906641\n",
              "WindSpeed9am      1.214767\n",
              "WindSpeed3pm      2.105046\n",
              "Humidity9am       1.824557\n",
              "Humidity3pm       3.098446\n",
              "Pressure9am      10.356799\n",
              "Pressure3pm      10.331363\n",
              "Cloud9am         38.421559\n",
              "Cloud3pm         40.807095\n",
              "Temp9am           1.214767\n",
              "Temp3pm           2.481094\n",
              "RainToday         2.241853\n",
              "RainTomorrow      2.245978\n",
              "dtype: float64"
            ]
          },
          "metadata": {
            "tags": []
          },
          "execution_count": 6
        }
      ]
    },
    {
      "cell_type": "markdown",
      "metadata": {
        "id": "6Lob5y-iTE_W"
      },
      "source": [
        "### Sobre las features/columnas y su uso:\n",
        "\n",
        "<u>Date:</u> \n",
        "- Variable de `Entrada`\n",
        "- Tipo de dato `object`\n",
        "- No tiene valores nulos.\n",
        "- Se puede trabajar para ver cuanta informacion aporta como Dia, Mes u Año.\n",
        "\n",
        "</br>\n",
        "\n",
        "<u>Location:</u>\n",
        "- Variable de `Entrada`\n",
        "- Tipo de dato `object`\n",
        "- No tiene valores nulos.\n",
        "- Se puede trabajar para ver si tiene sentido utilizarla como str o si combiene codificarla como numeros, o si no son muchas ciudades aplicar codificacion OneHot.\n",
        "\n",
        "</br>\n",
        "\n",
        "<u>MinTemp:</u>     \n",
        "- Variable de `Entrada`      \n",
        "- Tipo de dato `float64`\n",
        "- Tiene un porcentaje `bajo` de valores valores nullos\n",
        "- Se puede trabajar para ver cuanta informacion aporta, y ver como afecta a su distribucion e informacion aportada el realizar imputaciones por distintos metodos.\n",
        "\n",
        "</br>\n",
        "\n",
        "<u>MaxTemp:</u>       \n",
        "- Variable de `Entrada`    \n",
        "- Tipo de dato `float64`\n",
        "- Tiene un porcentaje `bajo` de valores valores nullos\n",
        "- Se puede trabajar para ver cuanta informacion aporta, y ver como afecta a su distribucion e informacion aportada el realizar imputaciones por distintos metodos.\n",
        "\n",
        "</br>\n",
        "\n",
        "<u>Rainfall:</u>    \n",
        "- Variable de `Entrada`      \n",
        "- Tipo de dato `float64`\n",
        "- Tiene un porcentaje `bajo` de valores valores nullos\n",
        "- Se puede trabajar para ver cuanta informacion aporta, y ver como afecta a su distribucion e informacion aportada el realizar imputaciones por distintos metodos.\n",
        "\n",
        "</br>\n",
        "\n",
        "<u>Evaporation:</u>   \n",
        "- Posible variable de `Entrada`    \n",
        "- Tipo de dato `float64`\n",
        "- Tiene un porcentaje `alto` de valores valores nullos, evaluar el no usar esta variable para el analisis.\n",
        "- Se puede trabajar para ver cuanta informacion aporta, y ver como afecta a su distribucion e informacion aportada el realizar imputaciones por distintos metodos.\n",
        "\n",
        "</br>\n",
        "\n",
        "<u>Sunshine:</u>    \n",
        "- Posible variable de `Entrada`      \n",
        "- Tipo de dato `float64`\n",
        "- Tiene un porcentaje `alto` de valores valores nullos, evaluar el no usar esta variable para el analisis.\n",
        "- Se puede trabajar para ver cuanta informacion aporta, y ver como afecta a su distribucion e informacion aportada el realizar imputaciones por distintos metodos.\n",
        "\n",
        "</br>\n",
        "\n",
        "<u>WindGustDir:</u>  \n",
        "- Variable de `Entrada`      \n",
        "- Tipo de dato `object`\n",
        "- Tiene un porcentaje `medio` de valores valores nullos\n",
        "- Se puede trabajar para ver cuanta informacion aporta, y ver como afecta a su distribucion e informacion aportada el realizar imputaciones por distintos metodos.\n",
        "\n",
        "</br>\n",
        "\n",
        "<u>WindGustSpeed:</u>  \n",
        "- Variable de `Entrada`   \n",
        "- Tipo de dato `float64`\n",
        "- Tiene un porcentaje `medio` de valores valores nullos\n",
        "- Se puede trabajar para ver cuanta informacion aporta, y ver como afecta a su distribucion e informacion aportada el realizar imputaciones por distintos metodos.\n",
        "\n",
        "</br>\n",
        "\n",
        "<u>WindDir9am:</u>   \n",
        "- Variable de `Entrada`      \n",
        "- Tipo de dato `object`\n",
        "- Tiene un porcentaje `medio` de valores valores nullos\n",
        "- Se puede trabajar para ver cuanta informacion aporta, y ver como afecta a su distribucion e informacion aportada el realizar imputaciones por distintos metodos.\n",
        "\n",
        "</br>\n",
        "\n",
        "<u>WindDir3pm:</u>    \n",
        "- Variable de `Entrada`     \n",
        "- Tipo de dato `object`\n",
        "- Tiene un porcentaje `bajo` de valores valores nullos\n",
        "- Se puede trabajar para ver cuanta informacion aporta, y ver como afecta a su distribucion e informacion aportada el realizar imputaciones por distintos metodos.\n",
        "\n",
        "</br>\n",
        "\n",
        "<u>WindSpeed9am:</u>    \n",
        "- Variable de `Entrada`  \n",
        "- Tipo de dato `float64`\n",
        "- Tiene un porcentaje `bajo` de valores valores nullos\n",
        "- Se puede trabajar para ver cuanta informacion aporta, y ver como afecta a su distribucion e informacion aportada el realizar imputaciones por distintos metodos.\n",
        "\n",
        "</br>\n",
        "\n",
        "<u>WindSpeed3pm:</u>   \n",
        "- Variable de `Entrada`   \n",
        "- Tipo de dato `float64`\n",
        "- Tiene un porcentaje `bajo` de valores valores nullos\n",
        "- Se puede trabajar para ver cuanta informacion aporta, y ver como afecta a su distribucion e informacion aportada el realizar imputaciones por distintos metodos.\n",
        "\n",
        "</br>\n",
        "\n",
        "<u>Humidity9am:</u>   \n",
        "- Variable de `Entrada`\n",
        "- Tipo de dato `float64`\n",
        "- Tiene un porcentaje `bajo` de valores valores nullos\n",
        "- Se puede trabajar para ver cuanta informacion aporta, y ver como afecta a su distribucion e informacion aportada el realizar imputaciones por distintos metodos.\n",
        "\n",
        "</br>\n",
        "\n",
        "<u>Humidity3pm:</u>    \n",
        "- Variable de `Entrada`  \n",
        "- Tipo de dato `float64`\n",
        "- Tiene un porcentaje `bajo` de valores valores nullos\n",
        "- Se puede trabajar para ver cuanta informacion aporta, y ver como afecta a su distribucion e informacion aportada el realizar imputaciones por distintos metodos.\n",
        "\n",
        "</br>\n",
        "\n",
        "<u>Pressure9am:</u>       \n",
        "- Variable de `Entrada`\n",
        "- Tipo de dato `float64`\n",
        "- Tiene un porcentaje `medio` de valores valores nullos\n",
        "- Se puede trabajar para ver cuanta informacion aporta, y ver como afecta a su distribucion e informacion aportada el realizar imputaciones por distintos metodos.\n",
        "\n",
        "</br>\n",
        "\n",
        "<u>Pressure3pm:</u>     \n",
        "- Variable de `Entrada`  \n",
        "- Tipo de dato `float64`\n",
        "- Tiene un porcentaje `medio` de valores valores nullos\n",
        "- Se puede trabajar para ver cuanta informacion aporta, y ver como afecta a su distribucion e informacion aportada el realizar imputaciones por distintos metodos.\n",
        "\n",
        "</br>\n",
        "\n",
        "<u>Cloud9am:</u>        \n",
        "- Posible variable de `Entrada`  \n",
        "- Tipo de dato `float64`\n",
        "- Tiene un porcentaje `alto` de valores valores nullos, evaluar el no usar esta variable para el analisis.\n",
        "- Se puede trabajar para ver cuanta informacion aporta, y ver como afecta a su distribucion e informacion aportada el realizar imputaciones por distintos metodos.\n",
        "\n",
        "</br>\n",
        "\n",
        "<u>Cloud3pm:</u>   \n",
        "- Posible variable de `Entrada`       \n",
        "- Tipo de dato `float64`\n",
        "- Tiene un porcentaje `alto` de valores valores nullos, evaluar el no usar esta variable para el analisis.\n",
        "- Se puede trabajar para ver cuanta informacion aporta, y ver como afecta a su distribucion e informacion aportada el realizar imputaciones por distintos metodos.\n",
        "\n",
        "</br>\n",
        "\n",
        "<u>Temp9am:</u>     \n",
        "- Variable de `Entrada`      \n",
        "- Tipo de dato `float64`\n",
        "- Tiene un porcentaje `bajo` de valores valores nullos\n",
        "- Se puede trabajar para ver cuanta informacion aporta, y ver como afecta a su distribucion e informacion aportada el realizar imputaciones por distintos metodos.\n",
        "\n",
        "</br>\n",
        "\n",
        "<u>Temp3pm:</u>     \n",
        "- Variable de `Entrada`      \n",
        "- Tipo de dato `float64`\n",
        "- Tiene un porcentaje `bajo` de valores valores nullos\n",
        "- Se puede trabajar para ver cuanta informacion aporta, y ver como afecta a su distribucion e informacion aportada el realizar imputaciones por distintos metodos.\n",
        "\n",
        "</br>\n",
        "\n",
        "<u>RainToday:</u>     \n",
        "- Variable de `Entrada`     \n",
        "- Tipo de dato `object`\n",
        "- Tiene un porcentaje `bajo` de valores valores nullos\n",
        "- Se puede trabajar para ver cuanta informacion aporta, y ver como afecta a su distribucion e informacion aportada el realizar imputaciones por distintos metodos.\n",
        "\n",
        "</br>\n",
        "\n",
        "<u>RainTomorrow:</u>    \n",
        "- Variable de `Salida`   \n",
        "- Tipo de dato `object`\n",
        "- Tiene un porcentaje `bajo` de valores valores nullos\n",
        "- Se puede trabajar para ver cuanta informacion aporta, y ver como afecta a su distribucion e informacion aportada el realizar imputaciones por distintos metodos.\n"
      ]
    },
    {
      "cell_type": "markdown",
      "metadata": {
        "id": "UI2Eop8nar4G"
      },
      "source": [
        "### Analisis de su distribucion"
      ]
    },
    {
      "cell_type": "code",
      "metadata": {
        "colab": {
          "base_uri": "https://localhost:8080/",
          "height": 529
        },
        "id": "gO3tShMFyOUp",
        "outputId": "2c2349de-49fc-4d93-9e12-dd8e86990210"
      },
      "source": [
        "fig, ax = plt.subplots(nrows=4, ncols=4, figsize=(20,10))\n",
        "\n",
        "for i in range(0,4):\n",
        "  columnas = df.columns[df.dtypes == np.float_][0+4*i:4+4*i]\n",
        "  for j in range(0,4):\n",
        "    if df[columnas[j]].dtype == np.float_:\n",
        "      sns.histplot(data=df, x=columnas[j], hue='RainTomorrow', ax=ax[i,j])\n",
        "      ax[i,j].set_title(f'Dist {columnas[j]}')\n",
        "\n",
        "plt.tight_layout()"
      ],
      "execution_count": null,
      "outputs": [
        {
          "output_type": "display_data",
          "data": {
            "image/png": "[encoded data removed]",
            "text/plain": [
              "<Figure size 1440x720 with 16 Axes>"
            ]
          },
          "metadata": {
            "tags": [],
            "needs_background": "light"
          }
        }
      ]
    },
    {
      "cell_type": "code",
      "metadata": {
        "id": "4kvjJyth3AUE",
        "colab": {
          "base_uri": "https://localhost:8080/",
          "height": 529
        },
        "outputId": "5dcc585b-ec19-4329-bee4-5532e06ba5b7"
      },
      "source": [
        "fig, ax = plt.subplots(nrows=2, ncols=3, figsize=(20,10))\n",
        "\n",
        "for i in range(0,2):\n",
        "  columnas = df.columns[df.dtypes != np.float_][1:-1]\n",
        "  columnas_in = columnas[0+i*3:3+i*3]\n",
        "  for j in range(0,3):\n",
        "    try:\n",
        "      sns.countplot(data=df, x=columnas_in[j], hue='RainTomorrow', ax=ax[i,j])\n",
        "      ax[i,j].set_title(f'Counts {columnas_in[j]}')\n",
        "    except:\n",
        "      ax[i,j].text(0.5, 0.5, f'No tenemos datos para este grafico', size=10, ha='center', va='center')\n",
        "      ax[i,j].get_xaxis().set_visible(False)\n",
        "      ax[i,j].get_yaxis().set_visible(False)\n",
        "\n",
        "\n",
        "\n",
        "plt.tight_layout()"
      ],
      "execution_count": null,
      "outputs": [
        {
          "output_type": "display_data",
          "data": {
            "image/png": "[encoded data removed]",
            "text/plain": [
              "<Figure size 1440x720 with 6 Axes>"
            ]
          },
          "metadata": {
            "tags": [],
            "needs_background": "light"
          }
        }
      ]
    },
    {
      "cell_type": "markdown",
      "metadata": {
        "id": "lSKmcrO63pWe"
      },
      "source": [
        "### ¿ Esta balanceada la variable de salida ?\n",
        "\n",
        "> Como se puede observar en el grafico la variable de salida `RainTomorrow` no esta balanceada."
      ]
    },
    {
      "cell_type": "code",
      "metadata": {
        "colab": {
          "base_uri": "https://localhost:8080/",
          "height": 390
        },
        "id": "Eme-YQC4wAyg",
        "outputId": "475f5adb-157c-4285-f81b-8d6b16f9a9aa"
      },
      "source": [
        "plt.figure(figsize=(10,6))\n",
        "df['RainTomorrow'].value_counts().plot(kind='bar', color=['C0', 'C1'], rot=0, title='Rain Tomorrow Values Counts')\n",
        "plt.show()"
      ],
      "execution_count": null,
      "outputs": [
        {
          "output_type": "display_data",
          "data": {
            "image/png": "[encoded data removed]",
            "text/plain": [
              "<Figure size 720x432 with 1 Axes>"
            ]
          },
          "metadata": {
            "tags": [],
            "needs_background": "light"
          }
        }
      ]
    },
    {
      "cell_type": "markdown",
      "metadata": {
        "id": "n50P0eNI4u4i"
      },
      "source": [
        "> La variable de salia `RainTomorrow` se puede codificar con los siguientes metodos ya que la misma no presenta una cardinalidad elevada. El problema que estamos resolviendo cumple con las caracteristicas de un caso de clasificacion, donde necesitamos representar las clases con numeros para poder hacer los calculos necesarios:\n",
        "\n",
        "- DummyEncoding\n",
        "- OneHotEncoding\n",
        "- LabelEncoding\n",
        "- FrecuencyEncoding\n",
        "\n"
      ]
    },
    {
      "cell_type": "code",
      "metadata": {
        "id": "_h_WHUeSl3dC"
      },
      "source": [
        "fig, ax = plt.subplots(nrows=2, ncols=3, figsize=(20,10))"
      ],
      "execution_count": null,
      "outputs": []
    },
    {
      "cell_type": "code",
      "metadata": {
        "colab": {
          "base_uri": "https://localhost:8080/",
          "height": 529
        },
        "id": "1soLArwmxWU8",
        "outputId": "f6176861-ae86-4701-a734-91e8c9569ff3"
      },
      "source": [
        "fig, ax = plt.subplots(nrows=4, ncols=4, figsize=(20,10))\n",
        "\n",
        "for i in range(0,4):\n",
        "  columnas = df.columns[df.dtypes == np.float_][0+4*i:4+4*i]\n",
        "  for j in range(0,4):\n",
        "    if df[columnas[j]].dtype == np.float_:\n",
        "      stats.probplot(x=df[columnas[j]], dist=stats.norm(), plot=ax[i,j])\n",
        "      ax[i,j].set_title(f'QQ-plot de {columnas[j]}')\n",
        "\n",
        "plt.tight_layout()"
      ],
      "execution_count": null,
      "outputs": [
        {
          "output_type": "display_data",
          "data": {
            "image/png": "[encoded data removed]",
            "text/plain": [
              "<Figure size 1440x720 with 16 Axes>"
            ]
          },
          "metadata": {
            "tags": [],
            "needs_background": "light"
          }
        }
      ]
    },
    {
      "cell_type": "code",
      "metadata": {
        "colab": {
          "base_uri": "https://localhost:8080/",
          "height": 641
        },
        "id": "lM3VdpJp_CIf",
        "outputId": "3eca22df-2c20-4e4c-8d29-454f05d18a68"
      },
      "source": [
        "fig, ax = plt.subplots(nrows=1, ncols=1, figsize=(20,10))\n",
        "stats.probplot(x=np.power(df['WindGustSpeed'], 1/7), dist=stats.norm(), plot=ax)"
      ],
      "execution_count": null,
      "outputs": [
        {
          "output_type": "execute_result",
          "data": {
            "text/plain": [
              "((array([-4.42756256, -4.23227967, -4.12618601, ...,  4.12618601,\n",
              "          4.23227967,  4.42756256]),\n",
              "  array([1.29170834, 1.32046925, 1.32046925, ...,        nan,        nan,\n",
              "                nan])),\n",
              " (nan, nan, nan))"
            ]
          },
          "metadata": {
            "tags": []
          },
          "execution_count": 45
        },
        {
          "output_type": "display_data",
          "data": {
            "image/png": "[encoded data removed]",
            "text/plain": [
              "<Figure size 1440x720 with 1 Axes>"
            ]
          },
          "metadata": {
            "tags": [],
            "needs_background": "light"
          }
        }
      ]
    },
    {
      "cell_type": "markdown",
      "metadata": {
        "id": "EMzGsvkG8_94"
      },
      "source": [
        "## Preparacion y Seleccion de Features"
      ]
    },
    {
      "cell_type": "markdown",
      "metadata": {
        "id": "FG6F1KyFp-3e"
      },
      "source": [
        "### Separo en test y train"
      ]
    },
    {
      "cell_type": "code",
      "metadata": {
        "id": "hDNq-6Vs0Z_D",
        "colab": {
          "base_uri": "https://localhost:8080/"
        },
        "outputId": "bc2dcf6e-c2b9-443f-c8eb-c147af625b2f"
      },
      "source": [
        "X_train, X_test, y_train, y_test = train_test_split(\n",
        "    df.iloc[:,:-1], \n",
        "    df.iloc[:,-1],  \n",
        "    test_size=0.3,\n",
        "    random_state=0)\n",
        "\n",
        "X_train.shape, X_test.shape"
      ],
      "execution_count": 4,
      "outputs": [
        {
          "output_type": "execute_result",
          "data": {
            "text/plain": [
              "((101822, 22), (43638, 22))"
            ]
          },
          "metadata": {
            "tags": []
          },
          "execution_count": 4
        }
      ]
    },
    {
      "cell_type": "code",
      "metadata": {
        "colab": {
          "base_uri": "https://localhost:8080/",
          "height": 226
        },
        "id": "7_gk6-dOhqJ7",
        "outputId": "68a33cc9-6e62-410b-9237-f2bfa44cb6d3"
      },
      "source": [
        "X_train[:5]"
      ],
      "execution_count": null,
      "outputs": [
        {
          "output_type": "execute_result",
          "data": {
            "text/html": [
              "<div>\n",
              "<style scoped>\n",
              "    .dataframe tbody tr th:only-of-type {\n",
              "        vertical-align: middle;\n",
              "    }\n",
              "\n",
              "    .dataframe tbody tr th {\n",
              "        vertical-align: top;\n",
              "    }\n",
              "\n",
              "    .dataframe thead th {\n",
              "        text-align: right;\n",
              "    }\n",
              "</style>\n",
              "<table border=\"1\" class=\"dataframe\">\n",
              "  <thead>\n",
              "    <tr style=\"text-align: right;\">\n",
              "      <th></th>\n",
              "      <th>Date</th>\n",
              "      <th>Location</th>\n",
              "      <th>MinTemp</th>\n",
              "      <th>MaxTemp</th>\n",
              "      <th>Rainfall</th>\n",
              "      <th>Evaporation</th>\n",
              "      <th>Sunshine</th>\n",
              "      <th>WindGustDir</th>\n",
              "      <th>WindGustSpeed</th>\n",
              "      <th>WindDir9am</th>\n",
              "      <th>WindDir3pm</th>\n",
              "      <th>WindSpeed9am</th>\n",
              "      <th>WindSpeed3pm</th>\n",
              "      <th>Humidity9am</th>\n",
              "      <th>Humidity3pm</th>\n",
              "      <th>Pressure9am</th>\n",
              "      <th>Pressure3pm</th>\n",
              "      <th>Cloud9am</th>\n",
              "      <th>Cloud3pm</th>\n",
              "      <th>Temp9am</th>\n",
              "      <th>Temp3pm</th>\n",
              "      <th>RainToday</th>\n",
              "    </tr>\n",
              "  </thead>\n",
              "  <tbody>\n",
              "    <tr>\n",
              "      <th>139678</th>\n",
              "      <td>2010-01-19</td>\n",
              "      <td>Darwin</td>\n",
              "      <td>23.4</td>\n",
              "      <td>32.8</td>\n",
              "      <td>0.0</td>\n",
              "      <td>5.2</td>\n",
              "      <td>10.9</td>\n",
              "      <td>ESE</td>\n",
              "      <td>35.0</td>\n",
              "      <td>N</td>\n",
              "      <td>W</td>\n",
              "      <td>15.0</td>\n",
              "      <td>15.0</td>\n",
              "      <td>74.0</td>\n",
              "      <td>62.0</td>\n",
              "      <td>1010.1</td>\n",
              "      <td>1007.9</td>\n",
              "      <td>7.0</td>\n",
              "      <td>4.0</td>\n",
              "      <td>29.0</td>\n",
              "      <td>31.4</td>\n",
              "      <td>No</td>\n",
              "    </tr>\n",
              "    <tr>\n",
              "      <th>137661</th>\n",
              "      <td>2013-07-07</td>\n",
              "      <td>AliceSprings</td>\n",
              "      <td>0.6</td>\n",
              "      <td>21.2</td>\n",
              "      <td>0.0</td>\n",
              "      <td>4.4</td>\n",
              "      <td>10.4</td>\n",
              "      <td>ESE</td>\n",
              "      <td>37.0</td>\n",
              "      <td>E</td>\n",
              "      <td>E</td>\n",
              "      <td>9.0</td>\n",
              "      <td>24.0</td>\n",
              "      <td>41.0</td>\n",
              "      <td>15.0</td>\n",
              "      <td>1026.3</td>\n",
              "      <td>1023.6</td>\n",
              "      <td>0.0</td>\n",
              "      <td>1.0</td>\n",
              "      <td>10.1</td>\n",
              "      <td>20.1</td>\n",
              "      <td>No</td>\n",
              "    </tr>\n",
              "    <tr>\n",
              "      <th>3459</th>\n",
              "      <td>2010-02-24</td>\n",
              "      <td>BadgerysCreek</td>\n",
              "      <td>18.3</td>\n",
              "      <td>24.9</td>\n",
              "      <td>0.0</td>\n",
              "      <td>NaN</td>\n",
              "      <td>NaN</td>\n",
              "      <td>E</td>\n",
              "      <td>31.0</td>\n",
              "      <td>SSW</td>\n",
              "      <td>ENE</td>\n",
              "      <td>9.0</td>\n",
              "      <td>15.0</td>\n",
              "      <td>67.0</td>\n",
              "      <td>60.0</td>\n",
              "      <td>1022.2</td>\n",
              "      <td>1021.2</td>\n",
              "      <td>NaN</td>\n",
              "      <td>NaN</td>\n",
              "      <td>19.5</td>\n",
              "      <td>23.9</td>\n",
              "      <td>No</td>\n",
              "    </tr>\n",
              "    <tr>\n",
              "      <th>58953</th>\n",
              "      <td>2011-02-20</td>\n",
              "      <td>Bendigo</td>\n",
              "      <td>13.6</td>\n",
              "      <td>22.0</td>\n",
              "      <td>0.4</td>\n",
              "      <td>4.4</td>\n",
              "      <td>NaN</td>\n",
              "      <td>SW</td>\n",
              "      <td>46.0</td>\n",
              "      <td>WSW</td>\n",
              "      <td>SSW</td>\n",
              "      <td>17.0</td>\n",
              "      <td>22.0</td>\n",
              "      <td>79.0</td>\n",
              "      <td>59.0</td>\n",
              "      <td>1010.1</td>\n",
              "      <td>1012.1</td>\n",
              "      <td>1.0</td>\n",
              "      <td>3.0</td>\n",
              "      <td>17.3</td>\n",
              "      <td>19.6</td>\n",
              "      <td>No</td>\n",
              "    </tr>\n",
              "    <tr>\n",
              "      <th>3521</th>\n",
              "      <td>2010-04-27</td>\n",
              "      <td>BadgerysCreek</td>\n",
              "      <td>4.2</td>\n",
              "      <td>18.4</td>\n",
              "      <td>0.0</td>\n",
              "      <td>NaN</td>\n",
              "      <td>NaN</td>\n",
              "      <td>N</td>\n",
              "      <td>19.0</td>\n",
              "      <td>NNE</td>\n",
              "      <td>WNW</td>\n",
              "      <td>7.0</td>\n",
              "      <td>6.0</td>\n",
              "      <td>96.0</td>\n",
              "      <td>54.0</td>\n",
              "      <td>1020.7</td>\n",
              "      <td>1018.1</td>\n",
              "      <td>NaN</td>\n",
              "      <td>NaN</td>\n",
              "      <td>11.2</td>\n",
              "      <td>17.6</td>\n",
              "      <td>No</td>\n",
              "    </tr>\n",
              "  </tbody>\n",
              "</table>\n",
              "</div>"
            ],
            "text/plain": [
              "              Date       Location  MinTemp  ...  Temp9am  Temp3pm  RainToday\n",
              "139678  2010-01-19         Darwin     23.4  ...     29.0     31.4         No\n",
              "137661  2013-07-07   AliceSprings      0.6  ...     10.1     20.1         No\n",
              "3459    2010-02-24  BadgerysCreek     18.3  ...     19.5     23.9         No\n",
              "58953   2011-02-20        Bendigo     13.6  ...     17.3     19.6         No\n",
              "3521    2010-04-27  BadgerysCreek      4.2  ...     11.2     17.6         No\n",
              "\n",
              "[5 rows x 22 columns]"
            ]
          },
          "metadata": {
            "tags": []
          },
          "execution_count": 5
        }
      ]
    },
    {
      "cell_type": "markdown",
      "metadata": {
        "id": "sf2mDG2QqFOq"
      },
      "source": [
        "### Miro si los estadisticos generales de las variables numericas varian mucho entre ambos datasets"
      ]
    },
    {
      "cell_type": "code",
      "metadata": {
        "colab": {
          "base_uri": "https://localhost:8080/",
          "height": 320
        },
        "id": "m6mgHbPWiJoM",
        "outputId": "4a69b894-cc20-49d7-f3e4-d7e5edef0e03"
      },
      "source": [
        "X_train.describe()"
      ],
      "execution_count": null,
      "outputs": [
        {
          "output_type": "execute_result",
          "data": {
            "text/html": [
              "<div>\n",
              "<style scoped>\n",
              "    .dataframe tbody tr th:only-of-type {\n",
              "        vertical-align: middle;\n",
              "    }\n",
              "\n",
              "    .dataframe tbody tr th {\n",
              "        vertical-align: top;\n",
              "    }\n",
              "\n",
              "    .dataframe thead th {\n",
              "        text-align: right;\n",
              "    }\n",
              "</style>\n",
              "<table border=\"1\" class=\"dataframe\">\n",
              "  <thead>\n",
              "    <tr style=\"text-align: right;\">\n",
              "      <th></th>\n",
              "      <th>MinTemp</th>\n",
              "      <th>MaxTemp</th>\n",
              "      <th>Rainfall</th>\n",
              "      <th>Evaporation</th>\n",
              "      <th>Sunshine</th>\n",
              "      <th>WindGustSpeed</th>\n",
              "      <th>WindSpeed9am</th>\n",
              "      <th>WindSpeed3pm</th>\n",
              "      <th>Humidity9am</th>\n",
              "      <th>Humidity3pm</th>\n",
              "      <th>Pressure9am</th>\n",
              "      <th>Pressure3pm</th>\n",
              "      <th>Cloud9am</th>\n",
              "      <th>Cloud3pm</th>\n",
              "      <th>Temp9am</th>\n",
              "      <th>Temp3pm</th>\n",
              "    </tr>\n",
              "  </thead>\n",
              "  <tbody>\n",
              "    <tr>\n",
              "      <th>count</th>\n",
              "      <td>100809.000000</td>\n",
              "      <td>100940.00000</td>\n",
              "      <td>99565.000000</td>\n",
              "      <td>57890.000000</td>\n",
              "      <td>53010.000000</td>\n",
              "      <td>94662.000000</td>\n",
              "      <td>100596.000000</td>\n",
              "      <td>99689.000000</td>\n",
              "      <td>99971.000000</td>\n",
              "      <td>98687.000000</td>\n",
              "      <td>91289.000000</td>\n",
              "      <td>91313.000000</td>\n",
              "      <td>62739.000000</td>\n",
              "      <td>60329.000000</td>\n",
              "      <td>100608.000000</td>\n",
              "      <td>99333.000000</td>\n",
              "    </tr>\n",
              "    <tr>\n",
              "      <th>mean</th>\n",
              "      <td>12.189498</td>\n",
              "      <td>23.20201</td>\n",
              "      <td>2.378599</td>\n",
              "      <td>5.453215</td>\n",
              "      <td>7.600621</td>\n",
              "      <td>40.044823</td>\n",
              "      <td>14.049187</td>\n",
              "      <td>18.685392</td>\n",
              "      <td>68.920737</td>\n",
              "      <td>51.610526</td>\n",
              "      <td>1017.655482</td>\n",
              "      <td>1015.260298</td>\n",
              "      <td>4.446851</td>\n",
              "      <td>4.505429</td>\n",
              "      <td>16.981395</td>\n",
              "      <td>21.664139</td>\n",
              "    </tr>\n",
              "    <tr>\n",
              "      <th>std</th>\n",
              "      <td>6.398555</td>\n",
              "      <td>7.11368</td>\n",
              "      <td>8.546598</td>\n",
              "      <td>4.205529</td>\n",
              "      <td>3.792966</td>\n",
              "      <td>13.593059</td>\n",
              "      <td>8.900352</td>\n",
              "      <td>8.803690</td>\n",
              "      <td>18.962358</td>\n",
              "      <td>20.747786</td>\n",
              "      <td>7.110292</td>\n",
              "      <td>7.037874</td>\n",
              "      <td>2.889475</td>\n",
              "      <td>2.723611</td>\n",
              "      <td>6.489094</td>\n",
              "      <td>6.928775</td>\n",
              "    </tr>\n",
              "    <tr>\n",
              "      <th>min</th>\n",
              "      <td>-8.500000</td>\n",
              "      <td>-4.80000</td>\n",
              "      <td>0.000000</td>\n",
              "      <td>0.000000</td>\n",
              "      <td>0.000000</td>\n",
              "      <td>6.000000</td>\n",
              "      <td>0.000000</td>\n",
              "      <td>0.000000</td>\n",
              "      <td>0.000000</td>\n",
              "      <td>0.000000</td>\n",
              "      <td>980.500000</td>\n",
              "      <td>977.100000</td>\n",
              "      <td>0.000000</td>\n",
              "      <td>0.000000</td>\n",
              "      <td>-7.200000</td>\n",
              "      <td>-5.400000</td>\n",
              "    </tr>\n",
              "    <tr>\n",
              "      <th>25%</th>\n",
              "      <td>7.600000</td>\n",
              "      <td>17.90000</td>\n",
              "      <td>0.000000</td>\n",
              "      <td>2.600000</td>\n",
              "      <td>4.800000</td>\n",
              "      <td>31.000000</td>\n",
              "      <td>7.000000</td>\n",
              "      <td>13.000000</td>\n",
              "      <td>57.000000</td>\n",
              "      <td>37.000000</td>\n",
              "      <td>1013.000000</td>\n",
              "      <td>1010.400000</td>\n",
              "      <td>1.000000</td>\n",
              "      <td>2.000000</td>\n",
              "      <td>12.300000</td>\n",
              "      <td>16.600000</td>\n",
              "    </tr>\n",
              "    <tr>\n",
              "      <th>50%</th>\n",
              "      <td>12.000000</td>\n",
              "      <td>22.60000</td>\n",
              "      <td>0.000000</td>\n",
              "      <td>4.600000</td>\n",
              "      <td>8.400000</td>\n",
              "      <td>39.000000</td>\n",
              "      <td>13.000000</td>\n",
              "      <td>19.000000</td>\n",
              "      <td>70.000000</td>\n",
              "      <td>52.000000</td>\n",
              "      <td>1017.600000</td>\n",
              "      <td>1015.200000</td>\n",
              "      <td>5.000000</td>\n",
              "      <td>5.000000</td>\n",
              "      <td>16.700000</td>\n",
              "      <td>21.100000</td>\n",
              "    </tr>\n",
              "    <tr>\n",
              "      <th>75%</th>\n",
              "      <td>16.800000</td>\n",
              "      <td>28.20000</td>\n",
              "      <td>0.800000</td>\n",
              "      <td>7.400000</td>\n",
              "      <td>10.600000</td>\n",
              "      <td>48.000000</td>\n",
              "      <td>19.000000</td>\n",
              "      <td>24.000000</td>\n",
              "      <td>83.000000</td>\n",
              "      <td>66.000000</td>\n",
              "      <td>1022.400000</td>\n",
              "      <td>1020.000000</td>\n",
              "      <td>7.000000</td>\n",
              "      <td>7.000000</td>\n",
              "      <td>21.525000</td>\n",
              "      <td>26.400000</td>\n",
              "    </tr>\n",
              "    <tr>\n",
              "      <th>max</th>\n",
              "      <td>31.900000</td>\n",
              "      <td>48.10000</td>\n",
              "      <td>367.600000</td>\n",
              "      <td>145.000000</td>\n",
              "      <td>14.500000</td>\n",
              "      <td>135.000000</td>\n",
              "      <td>130.000000</td>\n",
              "      <td>83.000000</td>\n",
              "      <td>100.000000</td>\n",
              "      <td>100.000000</td>\n",
              "      <td>1041.000000</td>\n",
              "      <td>1039.600000</td>\n",
              "      <td>9.000000</td>\n",
              "      <td>8.000000</td>\n",
              "      <td>40.200000</td>\n",
              "      <td>46.700000</td>\n",
              "    </tr>\n",
              "  </tbody>\n",
              "</table>\n",
              "</div>"
            ],
            "text/plain": [
              "             MinTemp       MaxTemp  ...        Temp9am       Temp3pm\n",
              "count  100809.000000  100940.00000  ...  100608.000000  99333.000000\n",
              "mean       12.189498      23.20201  ...      16.981395     21.664139\n",
              "std         6.398555       7.11368  ...       6.489094      6.928775\n",
              "min        -8.500000      -4.80000  ...      -7.200000     -5.400000\n",
              "25%         7.600000      17.90000  ...      12.300000     16.600000\n",
              "50%        12.000000      22.60000  ...      16.700000     21.100000\n",
              "75%        16.800000      28.20000  ...      21.525000     26.400000\n",
              "max        31.900000      48.10000  ...      40.200000     46.700000\n",
              "\n",
              "[8 rows x 16 columns]"
            ]
          },
          "metadata": {
            "tags": []
          },
          "execution_count": 7
        }
      ]
    },
    {
      "cell_type": "code",
      "metadata": {
        "colab": {
          "base_uri": "https://localhost:8080/",
          "height": 320
        },
        "id": "IGVWbjJuiWqh",
        "outputId": "e6abccb1-474f-4967-c280-1c4d846c4e4c"
      },
      "source": [
        "X_test.describe()"
      ],
      "execution_count": null,
      "outputs": [
        {
          "output_type": "execute_result",
          "data": {
            "text/html": [
              "<div>\n",
              "<style scoped>\n",
              "    .dataframe tbody tr th:only-of-type {\n",
              "        vertical-align: middle;\n",
              "    }\n",
              "\n",
              "    .dataframe tbody tr th {\n",
              "        vertical-align: top;\n",
              "    }\n",
              "\n",
              "    .dataframe thead th {\n",
              "        text-align: right;\n",
              "    }\n",
              "</style>\n",
              "<table border=\"1\" class=\"dataframe\">\n",
              "  <thead>\n",
              "    <tr style=\"text-align: right;\">\n",
              "      <th></th>\n",
              "      <th>MinTemp</th>\n",
              "      <th>MaxTemp</th>\n",
              "      <th>Rainfall</th>\n",
              "      <th>Evaporation</th>\n",
              "      <th>Sunshine</th>\n",
              "      <th>WindGustSpeed</th>\n",
              "      <th>WindSpeed9am</th>\n",
              "      <th>WindSpeed3pm</th>\n",
              "      <th>Humidity9am</th>\n",
              "      <th>Humidity3pm</th>\n",
              "      <th>Pressure9am</th>\n",
              "      <th>Pressure3pm</th>\n",
              "      <th>Cloud9am</th>\n",
              "      <th>Cloud3pm</th>\n",
              "      <th>Temp9am</th>\n",
              "      <th>Temp3pm</th>\n",
              "    </tr>\n",
              "  </thead>\n",
              "  <tbody>\n",
              "    <tr>\n",
              "      <th>count</th>\n",
              "      <td>43166.000000</td>\n",
              "      <td>43259.000000</td>\n",
              "      <td>42634.000000</td>\n",
              "      <td>24780.000000</td>\n",
              "      <td>22615.000000</td>\n",
              "      <td>40535.000000</td>\n",
              "      <td>43097.000000</td>\n",
              "      <td>42709.000000</td>\n",
              "      <td>42835.000000</td>\n",
              "      <td>42266.000000</td>\n",
              "      <td>39106.000000</td>\n",
              "      <td>39119.000000</td>\n",
              "      <td>26833.000000</td>\n",
              "      <td>25773.000000</td>\n",
              "      <td>43085.000000</td>\n",
              "      <td>42518.000000</td>\n",
              "    </tr>\n",
              "    <tr>\n",
              "      <th>mean</th>\n",
              "      <td>12.204629</td>\n",
              "      <td>23.266472</td>\n",
              "      <td>2.319628</td>\n",
              "      <td>5.503313</td>\n",
              "      <td>7.635923</td>\n",
              "      <td>40.012828</td>\n",
              "      <td>14.029979</td>\n",
              "      <td>18.609590</td>\n",
              "      <td>68.787697</td>\n",
              "      <td>51.372380</td>\n",
              "      <td>1017.637002</td>\n",
              "      <td>1015.245596</td>\n",
              "      <td>4.448888</td>\n",
              "      <td>4.520467</td>\n",
              "      <td>17.012199</td>\n",
              "      <td>21.728367</td>\n",
              "    </tr>\n",
              "    <tr>\n",
              "      <th>std</th>\n",
              "      <td>6.398417</td>\n",
              "      <td>7.131439</td>\n",
              "      <td>8.315753</td>\n",
              "      <td>4.165822</td>\n",
              "      <td>3.767852</td>\n",
              "      <td>13.639851</td>\n",
              "      <td>8.950433</td>\n",
              "      <td>8.823921</td>\n",
              "      <td>19.184075</td>\n",
              "      <td>20.907114</td>\n",
              "      <td>7.097815</td>\n",
              "      <td>7.036419</td>\n",
              "      <td>2.881790</td>\n",
              "      <td>2.712750</td>\n",
              "      <td>6.487981</td>\n",
              "      <td>6.954888</td>\n",
              "    </tr>\n",
              "    <tr>\n",
              "      <th>min</th>\n",
              "      <td>-7.000000</td>\n",
              "      <td>-4.100000</td>\n",
              "      <td>0.000000</td>\n",
              "      <td>0.000000</td>\n",
              "      <td>0.000000</td>\n",
              "      <td>7.000000</td>\n",
              "      <td>0.000000</td>\n",
              "      <td>0.000000</td>\n",
              "      <td>1.000000</td>\n",
              "      <td>0.000000</td>\n",
              "      <td>983.700000</td>\n",
              "      <td>982.600000</td>\n",
              "      <td>0.000000</td>\n",
              "      <td>0.000000</td>\n",
              "      <td>-5.600000</td>\n",
              "      <td>-4.400000</td>\n",
              "    </tr>\n",
              "    <tr>\n",
              "      <th>25%</th>\n",
              "      <td>7.600000</td>\n",
              "      <td>18.000000</td>\n",
              "      <td>0.000000</td>\n",
              "      <td>2.600000</td>\n",
              "      <td>4.900000</td>\n",
              "      <td>31.000000</td>\n",
              "      <td>7.000000</td>\n",
              "      <td>13.000000</td>\n",
              "      <td>57.000000</td>\n",
              "      <td>36.000000</td>\n",
              "      <td>1012.900000</td>\n",
              "      <td>1010.500000</td>\n",
              "      <td>1.000000</td>\n",
              "      <td>2.000000</td>\n",
              "      <td>12.300000</td>\n",
              "      <td>16.600000</td>\n",
              "    </tr>\n",
              "    <tr>\n",
              "      <th>50%</th>\n",
              "      <td>12.000000</td>\n",
              "      <td>22.700000</td>\n",
              "      <td>0.000000</td>\n",
              "      <td>4.800000</td>\n",
              "      <td>8.500000</td>\n",
              "      <td>39.000000</td>\n",
              "      <td>13.000000</td>\n",
              "      <td>19.000000</td>\n",
              "      <td>70.000000</td>\n",
              "      <td>52.000000</td>\n",
              "      <td>1017.600000</td>\n",
              "      <td>1015.200000</td>\n",
              "      <td>5.000000</td>\n",
              "      <td>5.000000</td>\n",
              "      <td>16.700000</td>\n",
              "      <td>21.200000</td>\n",
              "    </tr>\n",
              "    <tr>\n",
              "      <th>75%</th>\n",
              "      <td>16.900000</td>\n",
              "      <td>28.200000</td>\n",
              "      <td>0.800000</td>\n",
              "      <td>7.400000</td>\n",
              "      <td>10.700000</td>\n",
              "      <td>48.000000</td>\n",
              "      <td>19.000000</td>\n",
              "      <td>24.000000</td>\n",
              "      <td>83.000000</td>\n",
              "      <td>66.000000</td>\n",
              "      <td>1022.400000</td>\n",
              "      <td>1020.000000</td>\n",
              "      <td>7.000000</td>\n",
              "      <td>7.000000</td>\n",
              "      <td>21.600000</td>\n",
              "      <td>26.400000</td>\n",
              "    </tr>\n",
              "    <tr>\n",
              "      <th>max</th>\n",
              "      <td>33.900000</td>\n",
              "      <td>46.700000</td>\n",
              "      <td>371.000000</td>\n",
              "      <td>77.300000</td>\n",
              "      <td>14.300000</td>\n",
              "      <td>126.000000</td>\n",
              "      <td>87.000000</td>\n",
              "      <td>87.000000</td>\n",
              "      <td>100.000000</td>\n",
              "      <td>100.000000</td>\n",
              "      <td>1040.400000</td>\n",
              "      <td>1038.500000</td>\n",
              "      <td>8.000000</td>\n",
              "      <td>9.000000</td>\n",
              "      <td>39.100000</td>\n",
              "      <td>46.100000</td>\n",
              "    </tr>\n",
              "  </tbody>\n",
              "</table>\n",
              "</div>"
            ],
            "text/plain": [
              "            MinTemp       MaxTemp  ...       Temp9am       Temp3pm\n",
              "count  43166.000000  43259.000000  ...  43085.000000  42518.000000\n",
              "mean      12.204629     23.266472  ...     17.012199     21.728367\n",
              "std        6.398417      7.131439  ...      6.487981      6.954888\n",
              "min       -7.000000     -4.100000  ...     -5.600000     -4.400000\n",
              "25%        7.600000     18.000000  ...     12.300000     16.600000\n",
              "50%       12.000000     22.700000  ...     16.700000     21.200000\n",
              "75%       16.900000     28.200000  ...     21.600000     26.400000\n",
              "max       33.900000     46.700000  ...     39.100000     46.100000\n",
              "\n",
              "[8 rows x 16 columns]"
            ]
          },
          "metadata": {
            "tags": []
          },
          "execution_count": 8
        }
      ]
    },
    {
      "cell_type": "markdown",
      "metadata": {
        "id": "LJBVHyp4qf-P"
      },
      "source": [
        "### Miro si las clases de las variables estadisticas se mantienen tanto en el test set como en el train set"
      ]
    },
    {
      "cell_type": "code",
      "metadata": {
        "colab": {
          "base_uri": "https://localhost:8080/"
        },
        "id": "Pfa6wjGXiaWp",
        "outputId": "566ecc99-a02f-43c1-fb19-0d133f31780b"
      },
      "source": [
        "for column in df.columns[df.dtypes != np.float_][1:-1]:\n",
        "  unique_to_train_set = [\n",
        "      x for x in X_train[column].unique() if x not in X_test[column].unique()\n",
        "  ]\n",
        "\n",
        "  unique_to_test_set = [\n",
        "      x for x in X_test[column].unique() if x not in X_train[column].unique()\n",
        "  ]\n",
        "\n",
        "  print(f\"Etiquetas de {column} halladas sólo en train set:\",len(unique_to_train_set))\n",
        "  print(f\"Etiqueteas de {column} halladas sólo en test set:\",len(unique_to_test_set))\n",
        "  print('\\n')"
      ],
      "execution_count": null,
      "outputs": [
        {
          "output_type": "stream",
          "text": [
            "Etiquetas de Location halladas sólo en train set: 0\n",
            "Etiqueteas de Location halladas sólo en test set: 0\n",
            "\n",
            "\n",
            "Etiquetas de WindGustDir halladas sólo en train set: 1\n",
            "Etiqueteas de WindGustDir halladas sólo en test set: 1\n",
            "\n",
            "\n",
            "Etiquetas de WindDir9am halladas sólo en train set: 1\n",
            "Etiqueteas de WindDir9am halladas sólo en test set: 1\n",
            "\n",
            "\n",
            "Etiquetas de WindDir3pm halladas sólo en train set: 1\n",
            "Etiqueteas de WindDir3pm halladas sólo en test set: 1\n",
            "\n",
            "\n",
            "Etiquetas de RainToday halladas sólo en train set: 1\n",
            "Etiqueteas de RainToday halladas sólo en test set: 1\n",
            "\n",
            "\n"
          ],
          "name": "stdout"
        }
      ]
    },
    {
      "cell_type": "markdown",
      "metadata": {
        "id": "tFC9W-BUp9Mu"
      },
      "source": [
        ""
      ]
    },
    {
      "cell_type": "code",
      "metadata": {
        "colab": {
          "base_uri": "https://localhost:8080/"
        },
        "id": "glvMnSEfoSD_",
        "outputId": "12da70e3-c205-41f6-e6a1-7059d3f1d8da"
      },
      "source": [
        "X_train.WindGustDir.value_counts(dropna=False).index.isin(X_test.WindGustDir.value_counts(dropna=False).index)"
      ],
      "execution_count": null,
      "outputs": [
        {
          "output_type": "execute_result",
          "data": {
            "text/plain": [
              "array([ True,  True,  True,  True,  True,  True,  True,  True,  True,\n",
              "        True,  True,  True,  True,  True,  True,  True,  True])"
            ]
          },
          "metadata": {
            "tags": []
          },
          "execution_count": 6
        }
      ]
    },
    {
      "cell_type": "code",
      "metadata": {
        "colab": {
          "base_uri": "https://localhost:8080/"
        },
        "id": "dXVXjmMPoSUr",
        "outputId": "dd477a54-8979-4cf6-e3aa-a2fbd7404fc6"
      },
      "source": [
        "X_test.WindGustDir.value_counts(dropna=False).index.isin(X_train.WindGustDir.value_counts(dropna=False).index)"
      ],
      "execution_count": null,
      "outputs": [
        {
          "output_type": "execute_result",
          "data": {
            "text/plain": [
              "array([ True,  True,  True,  True,  True,  True,  True,  True,  True,\n",
              "        True,  True,  True,  True,  True,  True,  True,  True])"
            ]
          },
          "metadata": {
            "tags": []
          },
          "execution_count": 7
        }
      ]
    },
    {
      "cell_type": "code",
      "metadata": {
        "colab": {
          "base_uri": "https://localhost:8080/"
        },
        "id": "DIv2L_cuoSiN",
        "outputId": "c87105de-8fa2-454b-a0ae-5a85e100d18e"
      },
      "source": [
        "X_train.WindDir9am.value_counts(dropna=False).index.isin(X_test.WindDir9am.value_counts(dropna=False).index)"
      ],
      "execution_count": null,
      "outputs": [
        {
          "output_type": "execute_result",
          "data": {
            "text/plain": [
              "array([ True,  True,  True,  True,  True,  True,  True,  True,  True,\n",
              "        True,  True,  True,  True,  True,  True,  True,  True])"
            ]
          },
          "metadata": {
            "tags": []
          },
          "execution_count": 8
        }
      ]
    },
    {
      "cell_type": "code",
      "metadata": {
        "colab": {
          "base_uri": "https://localhost:8080/"
        },
        "id": "1t9L3dCOoSph",
        "outputId": "ef8be416-b05c-473d-f2b6-9f76fa6bb8dc"
      },
      "source": [
        "X_test.WindDir9am.value_counts(dropna=False).index.isin(X_train.WindDir9am.value_counts(dropna=False).index)"
      ],
      "execution_count": null,
      "outputs": [
        {
          "output_type": "execute_result",
          "data": {
            "text/plain": [
              "array([ True,  True,  True,  True,  True,  True,  True,  True,  True,\n",
              "        True,  True,  True,  True,  True,  True,  True,  True])"
            ]
          },
          "metadata": {
            "tags": []
          },
          "execution_count": 9
        }
      ]
    },
    {
      "cell_type": "code",
      "metadata": {
        "colab": {
          "base_uri": "https://localhost:8080/"
        },
        "id": "QGWICrwaoT3S",
        "outputId": "0cf9a7f8-7c18-472c-b51b-921c7d6d678c"
      },
      "source": [
        "X_train.WindDir3pm.value_counts(dropna=False).index.isin(X_test.WindDir3pm.value_counts(dropna=False).index)"
      ],
      "execution_count": null,
      "outputs": [
        {
          "output_type": "execute_result",
          "data": {
            "text/plain": [
              "array([ True,  True,  True,  True,  True,  True,  True,  True,  True,\n",
              "        True,  True,  True,  True,  True,  True,  True,  True])"
            ]
          },
          "metadata": {
            "tags": []
          },
          "execution_count": 10
        }
      ]
    },
    {
      "cell_type": "code",
      "metadata": {
        "colab": {
          "base_uri": "https://localhost:8080/"
        },
        "id": "YImMOSeAoT9-",
        "outputId": "bd371e8b-2e7c-433b-cb94-cc382d0f8c7b"
      },
      "source": [
        "X_test.WindDir3pm.value_counts(dropna=False).index.isin(X_train.WindDir3pm.value_counts(dropna=False).index)"
      ],
      "execution_count": null,
      "outputs": [
        {
          "output_type": "execute_result",
          "data": {
            "text/plain": [
              "array([ True,  True,  True,  True,  True,  True,  True,  True,  True,\n",
              "        True,  True,  True,  True,  True,  True,  True,  True])"
            ]
          },
          "metadata": {
            "tags": []
          },
          "execution_count": 11
        }
      ]
    },
    {
      "cell_type": "code",
      "metadata": {
        "colab": {
          "base_uri": "https://localhost:8080/"
        },
        "id": "TRXnP9lnj7b2",
        "outputId": "be42b414-ebac-42e2-8738-6455e2b06a05"
      },
      "source": [
        "X_train.RainToday.value_counts(dropna=False).index.isin(X_test.RainToday.value_counts(dropna=False).index)"
      ],
      "execution_count": null,
      "outputs": [
        {
          "output_type": "execute_result",
          "data": {
            "text/plain": [
              "array([ True,  True,  True])"
            ]
          },
          "metadata": {
            "tags": []
          },
          "execution_count": 12
        }
      ]
    },
    {
      "cell_type": "code",
      "metadata": {
        "colab": {
          "base_uri": "https://localhost:8080/"
        },
        "id": "xb1GBFvdoD7F",
        "outputId": "bab99aeb-67e8-4c5e-f7f3-a8270f732cad"
      },
      "source": [
        "X_test.RainToday.value_counts(dropna=False).index.isin(X_train.RainToday.value_counts(dropna=False).index)"
      ],
      "execution_count": null,
      "outputs": [
        {
          "output_type": "execute_result",
          "data": {
            "text/plain": [
              "array([ True,  True,  True])"
            ]
          },
          "metadata": {
            "tags": []
          },
          "execution_count": 13
        }
      ]
    },
    {
      "cell_type": "markdown",
      "metadata": {
        "id": "Bo1gPu8DqqjL"
      },
      "source": [
        "### Miro los NA del train y test set"
      ]
    },
    {
      "cell_type": "code",
      "metadata": {
        "colab": {
          "base_uri": "https://localhost:8080/"
        },
        "id": "NA0A0pzYoI2v",
        "outputId": "0804294a-53f3-4066-a78a-b34678c4f25a"
      },
      "source": [
        "X_train.isnull().sum() / X_train.shape[0] * 100"
      ],
      "execution_count": null,
      "outputs": [
        {
          "output_type": "execute_result",
          "data": {
            "text/plain": [
              "Date              0.000000\n",
              "Location          0.000000\n",
              "MinTemp           0.994873\n",
              "MaxTemp           0.866218\n",
              "Rainfall          2.216613\n",
              "Evaporation      43.145882\n",
              "Sunshine         47.938559\n",
              "WindGustDir       7.077056\n",
              "WindGustSpeed     7.031879\n",
              "WindDir9am        7.204730\n",
              "WindDir3pm        2.875606\n",
              "WindSpeed9am      1.204062\n",
              "WindSpeed3pm      2.094832\n",
              "Humidity9am       1.817878\n",
              "Humidity3pm       3.078902\n",
              "Pressure9am      10.344523\n",
              "Pressure3pm      10.320952\n",
              "Cloud9am         38.383650\n",
              "Cloud3pm         40.750525\n",
              "Temp9am           1.192277\n",
              "Temp3pm           2.444462\n",
              "RainToday         2.216613\n",
              "dtype: float64"
            ]
          },
          "metadata": {
            "tags": []
          },
          "execution_count": 18
        }
      ]
    },
    {
      "cell_type": "code",
      "metadata": {
        "colab": {
          "base_uri": "https://localhost:8080/"
        },
        "id": "xiBIjDFvq30G",
        "outputId": "3aa151df-381d-4fa9-b906-c1879e196c49"
      },
      "source": [
        "X_test.isnull().sum() / X_test.shape[0] * 100"
      ],
      "execution_count": null,
      "outputs": [
        {
          "output_type": "execute_result",
          "data": {
            "text/plain": [
              "Date              0.000000\n",
              "Location          0.000000\n",
              "MinTemp           1.081626\n",
              "MaxTemp           0.868509\n",
              "Rainfall          2.300747\n",
              "Evaporation      43.214629\n",
              "Sunshine         48.175902\n",
              "WindGustDir       7.149732\n",
              "WindGustSpeed     7.110775\n",
              "WindDir9am        7.401806\n",
              "WindDir3pm        2.979055\n",
              "WindSpeed9am      1.239745\n",
              "WindSpeed3pm      2.128879\n",
              "Humidity9am       1.840139\n",
              "Humidity3pm       3.144049\n",
              "Pressure9am      10.385444\n",
              "Pressure3pm      10.355653\n",
              "Cloud9am         38.510014\n",
              "Cloud3pm         40.939090\n",
              "Temp9am           1.267244\n",
              "Temp3pm           2.566570\n",
              "RainToday         2.300747\n",
              "dtype: float64"
            ]
          },
          "metadata": {
            "tags": []
          },
          "execution_count": 19
        }
      ]
    },
    {
      "cell_type": "markdown",
      "metadata": {
        "id": "owmmwxvRsb3Z"
      },
      "source": [
        "### Imputacion de NA en columnas con bajo porcentaje de valores nulos"
      ]
    },
    {
      "cell_type": "code",
      "metadata": {
        "id": "vCJD5GYBq5g5"
      },
      "source": [
        "X_train.loc[:,'MinTemp_mean'] = X_train['MinTemp'].fillna(X_train['MinTemp'].mean())\n",
        "X_train.loc[:,'MinTemp_median'] = X_train['MinTemp'].fillna(X_train['MinTemp'].median())\n",
        "\n",
        "X_train.loc[:,'MaxTemp_mean'] = X_train['MaxTemp'].fillna(X_train['MaxTemp'].mean())\n",
        "X_train.loc[:,'MaxTemp_median'] = X_train['MaxTemp'].fillna(X_train['MaxTemp'].median())\n",
        "\n",
        "X_train.loc[:,'Rainfall_mean'] = X_train['Rainfall'].fillna(X_train['Rainfall'].mean())\n",
        "X_train.loc[:,'Rainfall_median'] = X_train['Rainfall'].fillna(X_train['Rainfall'].median())\n",
        "\n",
        "X_train.loc[:,'WindSpeed9am_mean'] = X_train['WindSpeed9am'].fillna(X_train['WindSpeed9am'].mean())\n",
        "X_train.loc[:,'WindSpeed9am_median'] = X_train['WindSpeed9am'].fillna(X_train['WindSpeed9am'].median())\n",
        "\n",
        "X_train.loc[:,'Humidity9am_mean'] = X_train['Humidity9am'].fillna(X_train['Humidity9am'].mean())\n",
        "X_train.loc[:,'Humidity9am_median'] = X_train['Humidity9am'].fillna(X_train['Humidity9am'].median())\n",
        "\n",
        "X_train.loc[:,'Humidity3pm_mean'] = X_train['Humidity3pm'].fillna(X_train['Humidity3pm'].mean())\n",
        "X_train.loc[:,'Humidity3pm_median'] = X_train['Humidity3pm'].fillna(X_train['Humidity3pm'].median())"
      ],
      "execution_count": 5,
      "outputs": []
    },
    {
      "cell_type": "code",
      "metadata": {
        "id": "8e_HAkA4bn7d"
      },
      "source": [
        "X_train.loc[:,'Temp9am_mean'] = X_train['Temp9am'].fillna(X_train['Temp9am'].mean())\n",
        "X_train.loc[:,'Temp9am_median'] = X_train['Temp9am'].fillna(X_train['Temp9am'].median())\n",
        "\n",
        "X_train.loc[:,'Temp3pm_mean'] = X_train['Temp3pm'].fillna(X_train['Temp3pm'].mean())\n",
        "X_train.loc[:,'Temp3pm_median'] = X_train['Temp3pm'].fillna(X_train['Temp3pm'].median())\n"
      ],
      "execution_count": 6,
      "outputs": []
    },
    {
      "cell_type": "markdown",
      "metadata": {
        "id": "F6CXqQ62SKVL"
      },
      "source": [
        "### Creacion de columnas encoded"
      ]
    },
    {
      "cell_type": "code",
      "metadata": {
        "id": "raV33s4n3YdN"
      },
      "source": [
        "X_train.loc[:,'Location_fill'] = X_train['Location'].fillna(X_train['Location'].value_counts().index[0])\n",
        "X_train.loc[:,'WindGustDir_fill'] = X_train['WindGustDir'].fillna(X_train['WindGustDir'].value_counts().index[0])\n",
        "X_train.loc[:,'WindDir9am_fill'] = X_train['WindDir9am'].fillna(X_train['WindDir9am'].value_counts().index[0])\n",
        "X_train.loc[:,'WindDir3pm_fill'] = X_train['WindDir3pm'].fillna(X_train['WindDir3pm'].value_counts().index[0])\n",
        "X_train.loc[:,'RainToday_fill'] = X_train['RainToday'].fillna(X_train['RainToday'].value_counts().index[0])"
      ],
      "execution_count": 7,
      "outputs": []
    },
    {
      "cell_type": "code",
      "metadata": {
        "id": "bviXnEpuSKdV"
      },
      "source": [
        "# Location, WindGustDir, WindDir9am, WindDir3pm, RainToday\n",
        "\n",
        "locat_enco = LabelEncoder()\n",
        "wind_gust_dir_enco = LabelEncoder()\n",
        "wind_dir_9_enco = LabelEncoder()\n",
        "wind_dir_3_enco = LabelEncoder()\n",
        "rain_today_enco = LabelEncoder()\n",
        "\n",
        "locat_fill_enco = LabelEncoder()\n",
        "wind_gust_dir_fill_enco = LabelEncoder()\n",
        "wind_dir_9_fill_enco = LabelEncoder()\n",
        "wind_dir_3_fill_enco = LabelEncoder()\n",
        "rain_today_fill_enco = LabelEncoder()\n",
        "\n",
        "locat_enco.fit(X_train['Location'].astype(str))\n",
        "wind_gust_dir_enco.fit(X_train['WindGustDir'].astype(str))\n",
        "wind_dir_9_enco.fit(X_train['WindDir9am'].astype(str))\n",
        "wind_dir_3_enco.fit(X_train['WindDir3pm'].astype(str))\n",
        "rain_today_enco.fit(X_train['RainToday'].astype(str))\n",
        "\n",
        "locat_fill_enco.fit(X_train['Location_fill'].astype(str))\n",
        "wind_gust_dir_fill_enco.fit(X_train['WindGustDir_fill'].astype(str))\n",
        "wind_dir_9_fill_enco.fit(X_train['WindDir9am_fill'].astype(str))\n",
        "wind_dir_3_fill_enco.fit(X_train['WindDir3pm_fill'].astype(str))\n",
        "rain_today_fill_enco.fit(X_train['RainToday_fill'].astype(str))\n",
        "\n",
        "\n",
        "X_train.loc[:,'Location_label'] = locat_enco.transform(X_train['Location'].astype(str))\n",
        "X_train.loc[:,'WindGustDir_label'] = wind_gust_dir_enco.transform(X_train['WindGustDir'].astype(str))\n",
        "X_train.loc[:,'WindDir9am_label'] = wind_dir_9_enco.transform(X_train['WindDir9am'].astype(str))\n",
        "X_train.loc[:,'WindDir3pm_label'] = wind_dir_3_enco.transform(X_train['WindDir3pm'].astype(str))\n",
        "X_train.loc[:,'RainToday_label'] = rain_today_enco.transform(X_train['RainToday'].astype(str))\n",
        "\n",
        "X_train.loc[:,'Location_fill_label'] = locat_fill_enco.transform(X_train['Location_fill'].astype(str))\n",
        "X_train.loc[:,'WindGustDir_fill_label'] = wind_gust_dir_fill_enco.transform(X_train['WindGustDir_fill'].astype(str))\n",
        "X_train.loc[:,'WindDir9am_fill_label'] = wind_dir_9_fill_enco.transform(X_train['WindDir9am_fill'].astype(str))\n",
        "X_train.loc[:,'WindDir3pm_fill_label'] = wind_dir_3_fill_enco.transform(X_train['WindDir3pm_fill'].astype(str))\n",
        "X_train.loc[:,'RainToday_fill_label'] = rain_today_fill_enco.transform(X_train['RainToday_fill'].astype(str))"
      ],
      "execution_count": 8,
      "outputs": []
    },
    {
      "cell_type": "markdown",
      "metadata": {
        "id": "LtQYfe-q6och"
      },
      "source": [
        "### Imputacion de NA en columnas con porcentaje medio de valores nulos"
      ]
    },
    {
      "cell_type": "code",
      "metadata": {
        "id": "P0qxodiK7H7v"
      },
      "source": [
        "# Pressure9am, Pressure3pm, WindGustSpeed\n",
        "\n",
        "imputer = KNNImputer(n_neighbors=3)\n",
        "X_train_knn_imp = imputer.fit_transform(X_train[X_train.columns[[2, 3, 4, 8, 11, 12, 13, 14, 15, 16, 19, 20]]])\n"
      ],
      "execution_count": 9,
      "outputs": []
    },
    {
      "cell_type": "code",
      "metadata": {
        "id": "sPPtwqcR8QZm"
      },
      "source": [
        "X_train.loc[:,'MinTemp_knn_imp'] = X_train_knn_imp[:, 0]\n",
        "X_train.loc[:,'MaxTemp_knn_imp'] = X_train_knn_imp[:, 1]\n",
        "X_train.loc[:,'Rainfall_knn_imp'] = X_train_knn_imp[:, 2]\n",
        "X_train.loc[:,'WindGustSpeed_knn_imp'] = X_train_knn_imp[:, 3]\n",
        "X_train.loc[:,'WindSpeed9am_knn_imp'] = X_train_knn_imp[:, 4]\n",
        "X_train.loc[:,'WindSpeed3pm_knn_imp'] = X_train_knn_imp[:, 5]\n",
        "X_train.loc[:,'Humidity9am_knn_imp'] = X_train_knn_imp[:, 6]\n",
        "X_train.loc[:,'Humidity3pm_knn_imp'] = X_train_knn_imp[:, 7]\n",
        "X_train.loc[:,'Pressure9am_knn_imp'] = X_train_knn_imp[:, 8]\n",
        "X_train.loc[:,'Pressure3pm_knn_imp'] = X_train_knn_imp[:, 9]\n",
        "X_train.loc[:,'Temp9am_knn_imp'] = X_train_knn_imp[:, 10]\n",
        "X_train.loc[:,'Temp3pm_knn_imp'] = X_train_knn_imp[:, 11]"
      ],
      "execution_count": 10,
      "outputs": []
    },
    {
      "cell_type": "markdown",
      "metadata": {
        "id": "4-VEZvA49hVA"
      },
      "source": [
        "### Ver los NA en la variable de salida"
      ]
    },
    {
      "cell_type": "code",
      "metadata": {
        "id": "YAQehNV-ZsdA",
        "colab": {
          "base_uri": "https://localhost:8080/"
        },
        "outputId": "173ba6d5-691e-4fae-a3db-aa979708c7fa"
      },
      "source": [
        "y_train.value_counts(dropna=False, normalize=True)"
      ],
      "execution_count": 11,
      "outputs": [
        {
          "output_type": "execute_result",
          "data": {
            "text/plain": [
              "No     0.758314\n",
              "Yes    0.219373\n",
              "NaN    0.022313\n",
              "Name: RainTomorrow, dtype: float64"
            ]
          },
          "metadata": {
            "tags": []
          },
          "execution_count": 11
        }
      ]
    },
    {
      "cell_type": "code",
      "metadata": {
        "colab": {
          "base_uri": "https://localhost:8080/"
        },
        "id": "Mx9iHJpr9rbH",
        "outputId": "bfbabf4e-4a3c-47c0-b080-1c800502159b"
      },
      "source": [
        "# Pasamos a borrar los valores de la variable de salida nulos ya que representan el 2% de la informacion que tenemos\n",
        "\n",
        "X_train.drop(y_train.isnull()[y_train.isnull() == True].index, axis=0, inplace=True)\n",
        "\n",
        "y_train.drop(y_train.isnull()[y_train.isnull() == True].index, axis=0, inplace=True)\n",
        "\n",
        "y_train.replace('Yes', 1, inplace=True)\n",
        "y_train.replace('No', 0, inplace=True)\n",
        "\n",
        "y_train.value_counts(dropna=False, normalize=True)"
      ],
      "execution_count": 12,
      "outputs": [
        {
          "output_type": "execute_result",
          "data": {
            "text/plain": [
              "0    0.77562\n",
              "1    0.22438\n",
              "Name: RainTomorrow, dtype: float64"
            ]
          },
          "metadata": {
            "tags": []
          },
          "execution_count": 12
        }
      ]
    },
    {
      "cell_type": "markdown",
      "metadata": {
        "id": "AufhFS3U-wuR"
      },
      "source": [
        "## Analisis de Correlaciones e informacion mutua"
      ]
    },
    {
      "cell_type": "markdown",
      "metadata": {
        "id": "RniRAEYyGMhE"
      },
      "source": [
        "### Pearson"
      ]
    },
    {
      "cell_type": "code",
      "metadata": {
        "colab": {
          "base_uri": "https://localhost:8080/",
          "height": 441
        },
        "id": "oJzzSk6A4ZZZ",
        "outputId": "db7a4a5d-32f1-4607-b9eb-3662f9e1d28a"
      },
      "source": [
        "X_train.loc[:,X_train.columns[X_train.dtypes == np.float_]].corrwith(y_train).sort_values(ascending=False).plot(kind='bar', figsize=(20,6))\n",
        "plt.title('Correlaciones de Pearson de las variables float con la variable de Salida', fontsize=20)\n",
        "plt.tight_layout()"
      ],
      "execution_count": 13,
      "outputs": [
        {
          "output_type": "display_data",
          "data": {
            "image/png": "[encoded data removed]",
            "text/plain": [
              "<Figure size 1440x432 with 1 Axes>"
            ]
          },
          "metadata": {
            "tags": [],
            "needs_background": "light"
          }
        }
      ]
    },
    {
      "cell_type": "code",
      "metadata": {
        "colab": {
          "base_uri": "https://localhost:8080/",
          "height": 441
        },
        "id": "bZShdlUHlv4i",
        "outputId": "cf4344ce-7b1d-4a37-cff3-b76b1f3a9fc6"
      },
      "source": [
        "X_train.loc[:,X_train.columns[X_train.dtypes == np.int_]].corrwith(y_train).sort_values(ascending=False).plot(kind='bar', figsize=(20,6))\n",
        "plt.title('Correlaciones de Pearson de las variables int con la variable de Salida', fontsize=20)\n",
        "plt.tight_layout()"
      ],
      "execution_count": 14,
      "outputs": [
        {
          "output_type": "display_data",
          "data": {
            "image/png": "[encoded data removed]",
            "text/plain": [
              "<Figure size 1440x432 with 1 Axes>"
            ]
          },
          "metadata": {
            "tags": [],
            "needs_background": "light"
          }
        }
      ]
    },
    {
      "cell_type": "markdown",
      "metadata": {
        "id": "5pn3f39LGPWb"
      },
      "source": [
        "### Spearman Rank"
      ]
    },
    {
      "cell_type": "code",
      "metadata": {
        "id": "Bml0YJg9GXqL"
      },
      "source": [
        ""
      ],
      "execution_count": null,
      "outputs": []
    },
    {
      "cell_type": "code",
      "metadata": {
        "id": "3_HUFogrGXsy"
      },
      "source": [
        ""
      ],
      "execution_count": null,
      "outputs": []
    },
    {
      "cell_type": "markdown",
      "metadata": {
        "id": "ofIqfsJeGVKK"
      },
      "source": [
        "### Informacion Mutua"
      ]
    },
    {
      "cell_type": "code",
      "metadata": {
        "id": "U24mcx68ZtD5",
        "colab": {
          "base_uri": "https://localhost:8080/",
          "height": 426
        },
        "outputId": "84bf3c33-d3e0-43eb-b8ac-ec08ebc9bbc6"
      },
      "source": [
        "mut_info_float = mutual_info_classif(X_train.loc[X_train.isnull().sum(axis=1)==0, X_train.columns[X_train.dtypes == np.float_]], y_train[X_train.isnull().sum(axis=1)==0])\n",
        "\n",
        "fig, ax = plt.subplots(1,1, figsize=(30,6))\n",
        "ax.set_title('Información mutua para variables float')\n",
        "sns.heatmap([mut_info_float],ax=ax,cmap=sns.diverging_palette(220,10,as_cmap=True), annot=True,fmt=\".2f\")\n",
        "ax.set_xticklabels(X_train.loc[X_train.isnull().sum(axis=1)==0, X_train.columns[X_train.dtypes == np.float_]].columns.values)\n",
        "ax.tick_params(axis='x', rotation=45)\n",
        "plt.tight_layout()"
      ],
      "execution_count": 18,
      "outputs": [
        {
          "output_type": "display_data",
          "data": {
            "image/png": "[encoded data removed]",
            "text/plain": [
              "<Figure size 2160x432 with 2 Axes>"
            ]
          },
          "metadata": {
            "tags": [],
            "needs_background": "light"
          }
        }
      ]
    },
    {
      "cell_type": "code",
      "metadata": {
        "colab": {
          "base_uri": "https://localhost:8080/",
          "height": 424
        },
        "id": "tgiqLM_Zh9Fg",
        "outputId": "15b29b65-8c35-43ab-80db-dcce2c287051"
      },
      "source": [
        "mut_info_int = mutual_info_classif(X_train.loc[X_train.isnull().sum(axis=1)==0, X_train.columns[X_train.dtypes == np.int_]], y_train[X_train.isnull().sum(axis=1)==0])\n",
        "\n",
        "fig, ax = plt.subplots(1,1, figsize=(30,6))\n",
        "ax.set_title('Información mutua para variables float')\n",
        "sns.heatmap([mut_info_int],ax=ax,cmap=sns.diverging_palette(220,10,as_cmap=True), annot=True,fmt=\".2f\")\n",
        "ax.set_xticklabels(X_train.loc[X_train.isnull().sum(axis=1)==0, X_train.columns[X_train.dtypes == np.int_]].columns.values)\n",
        "ax.tick_params(axis='x', rotation=45)\n",
        "plt.tight_layout()"
      ],
      "execution_count": 19,
      "outputs": [
        {
          "output_type": "display_data",
          "data": {
            "image/png": "[encoded data removed]",
            "text/plain": [
              "<Figure size 2160x432 with 2 Axes>"
            ]
          },
          "metadata": {
            "tags": [],
            "needs_background": "light"
          }
        }
      ]
    },
    {
      "cell_type": "code",
      "metadata": {
        "colab": {
          "base_uri": "https://localhost:8080/",
          "height": 444
        },
        "id": "HuYGlcDLnpmQ",
        "outputId": "3ee53af8-0982-4700-d04e-e672ed03ccb5"
      },
      "source": [
        "X_train[X_train.isnull().sum(axis=1)==0]\n"
      ],
      "execution_count": null,
      "outputs": [
        {
          "output_type": "execute_result",
          "data": {
            "text/html": [
              "<div>\n",
              "<style scoped>\n",
              "    .dataframe tbody tr th:only-of-type {\n",
              "        vertical-align: middle;\n",
              "    }\n",
              "\n",
              "    .dataframe tbody tr th {\n",
              "        vertical-align: top;\n",
              "    }\n",
              "\n",
              "    .dataframe thead th {\n",
              "        text-align: right;\n",
              "    }\n",
              "</style>\n",
              "<table border=\"1\" class=\"dataframe\">\n",
              "  <thead>\n",
              "    <tr style=\"text-align: right;\">\n",
              "      <th></th>\n",
              "      <th>Date</th>\n",
              "      <th>Location</th>\n",
              "      <th>MinTemp</th>\n",
              "      <th>MaxTemp</th>\n",
              "      <th>Rainfall</th>\n",
              "      <th>Evaporation</th>\n",
              "      <th>Sunshine</th>\n",
              "      <th>WindGustDir</th>\n",
              "      <th>WindGustSpeed</th>\n",
              "      <th>WindDir9am</th>\n",
              "      <th>WindDir3pm</th>\n",
              "      <th>WindSpeed9am</th>\n",
              "      <th>WindSpeed3pm</th>\n",
              "      <th>Humidity9am</th>\n",
              "      <th>Humidity3pm</th>\n",
              "      <th>Pressure9am</th>\n",
              "      <th>Pressure3pm</th>\n",
              "      <th>Cloud9am</th>\n",
              "      <th>Cloud3pm</th>\n",
              "      <th>Temp9am</th>\n",
              "      <th>Temp3pm</th>\n",
              "      <th>RainToday</th>\n",
              "      <th>MinTemp_mean</th>\n",
              "      <th>MinTemp_median</th>\n",
              "      <th>MaxTemp_mean</th>\n",
              "      <th>MaxTemp_median</th>\n",
              "      <th>Rainfall_mean</th>\n",
              "      <th>Rainfall_median</th>\n",
              "      <th>WindSpeed9am_mean</th>\n",
              "      <th>WindSpeed9am_median</th>\n",
              "      <th>Humidity9am_mean</th>\n",
              "      <th>Humidity9am_median</th>\n",
              "      <th>Humidity3pm_mean</th>\n",
              "      <th>Humidity3pm_median</th>\n",
              "      <th>Temp9am_mean</th>\n",
              "      <th>Temp9am_median</th>\n",
              "      <th>Temp3pm_mean</th>\n",
              "      <th>Temp3pm_median</th>\n",
              "      <th>Location_fill</th>\n",
              "      <th>WindGustDir_fill</th>\n",
              "      <th>WindDir9am_fill</th>\n",
              "      <th>WindDir3pm_fill</th>\n",
              "      <th>RainToday_fill</th>\n",
              "      <th>Location_label</th>\n",
              "      <th>WindGustDir_label</th>\n",
              "      <th>WindDir9am_label</th>\n",
              "      <th>WindDir3pm_label</th>\n",
              "      <th>RainToday_label</th>\n",
              "      <th>Location_fill_label</th>\n",
              "      <th>WindGustDir_fill_label</th>\n",
              "      <th>WindDir9am_fill_label</th>\n",
              "      <th>WindDir3pm_fill_label</th>\n",
              "      <th>RainToday_fill_label</th>\n",
              "      <th>MinTemp_knn_imp</th>\n",
              "      <th>MaxTemp_knn_imp</th>\n",
              "      <th>Rainfall_knn_imp</th>\n",
              "      <th>WindGustSpeed_knn_imp</th>\n",
              "      <th>WindSpeed9am_knn_imp</th>\n",
              "      <th>WindSpeed3pm_knn_imp</th>\n",
              "      <th>Humidity9am_knn_imp</th>\n",
              "      <th>Humidity3pm_knn_imp</th>\n",
              "      <th>Pressure9am_knn_imp</th>\n",
              "      <th>Pressure3pm_knn_imp</th>\n",
              "      <th>Temp9am_knn_imp</th>\n",
              "      <th>Temp3pm_knn_imp</th>\n",
              "    </tr>\n",
              "  </thead>\n",
              "  <tbody>\n",
              "    <tr>\n",
              "      <th>139678</th>\n",
              "      <td>2010-01-19</td>\n",
              "      <td>Darwin</td>\n",
              "      <td>23.4</td>\n",
              "      <td>32.8</td>\n",
              "      <td>0.0</td>\n",
              "      <td>5.2</td>\n",
              "      <td>10.9</td>\n",
              "      <td>ESE</td>\n",
              "      <td>35.0</td>\n",
              "      <td>N</td>\n",
              "      <td>W</td>\n",
              "      <td>15.0</td>\n",
              "      <td>15.0</td>\n",
              "      <td>74.0</td>\n",
              "      <td>62.0</td>\n",
              "      <td>1010.1</td>\n",
              "      <td>1007.9</td>\n",
              "      <td>7.0</td>\n",
              "      <td>4.0</td>\n",
              "      <td>29.0</td>\n",
              "      <td>31.4</td>\n",
              "      <td>No</td>\n",
              "      <td>23.4</td>\n",
              "      <td>23.4</td>\n",
              "      <td>32.8</td>\n",
              "      <td>32.8</td>\n",
              "      <td>0.0</td>\n",
              "      <td>0.0</td>\n",
              "      <td>15.0</td>\n",
              "      <td>15.0</td>\n",
              "      <td>74.0</td>\n",
              "      <td>74.0</td>\n",
              "      <td>62.0</td>\n",
              "      <td>62.0</td>\n",
              "      <td>29.0</td>\n",
              "      <td>29.0</td>\n",
              "      <td>31.4</td>\n",
              "      <td>31.4</td>\n",
              "      <td>Darwin</td>\n",
              "      <td>ESE</td>\n",
              "      <td>N</td>\n",
              "      <td>W</td>\n",
              "      <td>No</td>\n",
              "      <td>13</td>\n",
              "      <td>2</td>\n",
              "      <td>3</td>\n",
              "      <td>13</td>\n",
              "      <td>0</td>\n",
              "      <td>13</td>\n",
              "      <td>2</td>\n",
              "      <td>3</td>\n",
              "      <td>13</td>\n",
              "      <td>0</td>\n",
              "      <td>23.4</td>\n",
              "      <td>32.8</td>\n",
              "      <td>0.0</td>\n",
              "      <td>35.0</td>\n",
              "      <td>15.0</td>\n",
              "      <td>15.0</td>\n",
              "      <td>74.0</td>\n",
              "      <td>62.0</td>\n",
              "      <td>1010.1</td>\n",
              "      <td>1007.9</td>\n",
              "      <td>29.0</td>\n",
              "      <td>31.4</td>\n",
              "    </tr>\n",
              "    <tr>\n",
              "      <th>137661</th>\n",
              "      <td>2013-07-07</td>\n",
              "      <td>AliceSprings</td>\n",
              "      <td>0.6</td>\n",
              "      <td>21.2</td>\n",
              "      <td>0.0</td>\n",
              "      <td>4.4</td>\n",
              "      <td>10.4</td>\n",
              "      <td>ESE</td>\n",
              "      <td>37.0</td>\n",
              "      <td>E</td>\n",
              "      <td>E</td>\n",
              "      <td>9.0</td>\n",
              "      <td>24.0</td>\n",
              "      <td>41.0</td>\n",
              "      <td>15.0</td>\n",
              "      <td>1026.3</td>\n",
              "      <td>1023.6</td>\n",
              "      <td>0.0</td>\n",
              "      <td>1.0</td>\n",
              "      <td>10.1</td>\n",
              "      <td>20.1</td>\n",
              "      <td>No</td>\n",
              "      <td>0.6</td>\n",
              "      <td>0.6</td>\n",
              "      <td>21.2</td>\n",
              "      <td>21.2</td>\n",
              "      <td>0.0</td>\n",
              "      <td>0.0</td>\n",
              "      <td>9.0</td>\n",
              "      <td>9.0</td>\n",
              "      <td>41.0</td>\n",
              "      <td>41.0</td>\n",
              "      <td>15.0</td>\n",
              "      <td>15.0</td>\n",
              "      <td>10.1</td>\n",
              "      <td>10.1</td>\n",
              "      <td>20.1</td>\n",
              "      <td>20.1</td>\n",
              "      <td>AliceSprings</td>\n",
              "      <td>ESE</td>\n",
              "      <td>E</td>\n",
              "      <td>E</td>\n",
              "      <td>No</td>\n",
              "      <td>3</td>\n",
              "      <td>2</td>\n",
              "      <td>0</td>\n",
              "      <td>0</td>\n",
              "      <td>0</td>\n",
              "      <td>3</td>\n",
              "      <td>2</td>\n",
              "      <td>0</td>\n",
              "      <td>0</td>\n",
              "      <td>0</td>\n",
              "      <td>0.6</td>\n",
              "      <td>21.2</td>\n",
              "      <td>0.0</td>\n",
              "      <td>37.0</td>\n",
              "      <td>9.0</td>\n",
              "      <td>24.0</td>\n",
              "      <td>41.0</td>\n",
              "      <td>15.0</td>\n",
              "      <td>1026.3</td>\n",
              "      <td>1023.6</td>\n",
              "      <td>10.1</td>\n",
              "      <td>20.1</td>\n",
              "    </tr>\n",
              "    <tr>\n",
              "      <th>140525</th>\n",
              "      <td>2012-06-14</td>\n",
              "      <td>Darwin</td>\n",
              "      <td>18.1</td>\n",
              "      <td>28.5</td>\n",
              "      <td>0.0</td>\n",
              "      <td>4.4</td>\n",
              "      <td>10.0</td>\n",
              "      <td>NW</td>\n",
              "      <td>26.0</td>\n",
              "      <td>ENE</td>\n",
              "      <td>N</td>\n",
              "      <td>13.0</td>\n",
              "      <td>17.0</td>\n",
              "      <td>76.0</td>\n",
              "      <td>59.0</td>\n",
              "      <td>1014.4</td>\n",
              "      <td>1011.5</td>\n",
              "      <td>5.0</td>\n",
              "      <td>2.0</td>\n",
              "      <td>23.7</td>\n",
              "      <td>27.2</td>\n",
              "      <td>No</td>\n",
              "      <td>18.1</td>\n",
              "      <td>18.1</td>\n",
              "      <td>28.5</td>\n",
              "      <td>28.5</td>\n",
              "      <td>0.0</td>\n",
              "      <td>0.0</td>\n",
              "      <td>13.0</td>\n",
              "      <td>13.0</td>\n",
              "      <td>76.0</td>\n",
              "      <td>76.0</td>\n",
              "      <td>59.0</td>\n",
              "      <td>59.0</td>\n",
              "      <td>23.7</td>\n",
              "      <td>23.7</td>\n",
              "      <td>27.2</td>\n",
              "      <td>27.2</td>\n",
              "      <td>Darwin</td>\n",
              "      <td>NW</td>\n",
              "      <td>ENE</td>\n",
              "      <td>N</td>\n",
              "      <td>No</td>\n",
              "      <td>13</td>\n",
              "      <td>7</td>\n",
              "      <td>1</td>\n",
              "      <td>3</td>\n",
              "      <td>0</td>\n",
              "      <td>13</td>\n",
              "      <td>7</td>\n",
              "      <td>1</td>\n",
              "      <td>3</td>\n",
              "      <td>0</td>\n",
              "      <td>18.1</td>\n",
              "      <td>28.5</td>\n",
              "      <td>0.0</td>\n",
              "      <td>26.0</td>\n",
              "      <td>13.0</td>\n",
              "      <td>17.0</td>\n",
              "      <td>76.0</td>\n",
              "      <td>59.0</td>\n",
              "      <td>1014.4</td>\n",
              "      <td>1011.5</td>\n",
              "      <td>23.7</td>\n",
              "      <td>27.2</td>\n",
              "    </tr>\n",
              "    <tr>\n",
              "      <th>22120</th>\n",
              "      <td>2011-10-29</td>\n",
              "      <td>NorfolkIsland</td>\n",
              "      <td>16.7</td>\n",
              "      <td>21.3</td>\n",
              "      <td>6.0</td>\n",
              "      <td>3.8</td>\n",
              "      <td>0.2</td>\n",
              "      <td>E</td>\n",
              "      <td>54.0</td>\n",
              "      <td>E</td>\n",
              "      <td>ESE</td>\n",
              "      <td>30.0</td>\n",
              "      <td>30.0</td>\n",
              "      <td>87.0</td>\n",
              "      <td>80.0</td>\n",
              "      <td>1016.8</td>\n",
              "      <td>1015.9</td>\n",
              "      <td>7.0</td>\n",
              "      <td>7.0</td>\n",
              "      <td>19.3</td>\n",
              "      <td>19.7</td>\n",
              "      <td>Yes</td>\n",
              "      <td>16.7</td>\n",
              "      <td>16.7</td>\n",
              "      <td>21.3</td>\n",
              "      <td>21.3</td>\n",
              "      <td>6.0</td>\n",
              "      <td>6.0</td>\n",
              "      <td>30.0</td>\n",
              "      <td>30.0</td>\n",
              "      <td>87.0</td>\n",
              "      <td>87.0</td>\n",
              "      <td>80.0</td>\n",
              "      <td>80.0</td>\n",
              "      <td>19.3</td>\n",
              "      <td>19.3</td>\n",
              "      <td>19.7</td>\n",
              "      <td>19.7</td>\n",
              "      <td>NorfolkIsland</td>\n",
              "      <td>E</td>\n",
              "      <td>E</td>\n",
              "      <td>ESE</td>\n",
              "      <td>Yes</td>\n",
              "      <td>27</td>\n",
              "      <td>0</td>\n",
              "      <td>0</td>\n",
              "      <td>2</td>\n",
              "      <td>1</td>\n",
              "      <td>27</td>\n",
              "      <td>0</td>\n",
              "      <td>0</td>\n",
              "      <td>2</td>\n",
              "      <td>1</td>\n",
              "      <td>16.7</td>\n",
              "      <td>21.3</td>\n",
              "      <td>6.0</td>\n",
              "      <td>54.0</td>\n",
              "      <td>30.0</td>\n",
              "      <td>30.0</td>\n",
              "      <td>87.0</td>\n",
              "      <td>80.0</td>\n",
              "      <td>1016.8</td>\n",
              "      <td>1015.9</td>\n",
              "      <td>19.3</td>\n",
              "      <td>19.7</td>\n",
              "    </tr>\n",
              "    <tr>\n",
              "      <th>85324</th>\n",
              "      <td>2012-03-09</td>\n",
              "      <td>Brisbane</td>\n",
              "      <td>19.9</td>\n",
              "      <td>31.7</td>\n",
              "      <td>0.0</td>\n",
              "      <td>7.0</td>\n",
              "      <td>11.7</td>\n",
              "      <td>SW</td>\n",
              "      <td>24.0</td>\n",
              "      <td>SW</td>\n",
              "      <td>SSW</td>\n",
              "      <td>7.0</td>\n",
              "      <td>6.0</td>\n",
              "      <td>68.0</td>\n",
              "      <td>32.0</td>\n",
              "      <td>1011.5</td>\n",
              "      <td>1008.3</td>\n",
              "      <td>1.0</td>\n",
              "      <td>1.0</td>\n",
              "      <td>25.1</td>\n",
              "      <td>30.7</td>\n",
              "      <td>No</td>\n",
              "      <td>19.9</td>\n",
              "      <td>19.9</td>\n",
              "      <td>31.7</td>\n",
              "      <td>31.7</td>\n",
              "      <td>0.0</td>\n",
              "      <td>0.0</td>\n",
              "      <td>7.0</td>\n",
              "      <td>7.0</td>\n",
              "      <td>68.0</td>\n",
              "      <td>68.0</td>\n",
              "      <td>32.0</td>\n",
              "      <td>32.0</td>\n",
              "      <td>25.1</td>\n",
              "      <td>25.1</td>\n",
              "      <td>30.7</td>\n",
              "      <td>30.7</td>\n",
              "      <td>Brisbane</td>\n",
              "      <td>SW</td>\n",
              "      <td>SW</td>\n",
              "      <td>SSW</td>\n",
              "      <td>No</td>\n",
              "      <td>7</td>\n",
              "      <td>12</td>\n",
              "      <td>12</td>\n",
              "      <td>11</td>\n",
              "      <td>0</td>\n",
              "      <td>7</td>\n",
              "      <td>12</td>\n",
              "      <td>12</td>\n",
              "      <td>11</td>\n",
              "      <td>0</td>\n",
              "      <td>19.9</td>\n",
              "      <td>31.7</td>\n",
              "      <td>0.0</td>\n",
              "      <td>24.0</td>\n",
              "      <td>7.0</td>\n",
              "      <td>6.0</td>\n",
              "      <td>68.0</td>\n",
              "      <td>32.0</td>\n",
              "      <td>1011.5</td>\n",
              "      <td>1008.3</td>\n",
              "      <td>25.1</td>\n",
              "      <td>30.7</td>\n",
              "    </tr>\n",
              "    <tr>\n",
              "      <th>...</th>\n",
              "      <td>...</td>\n",
              "      <td>...</td>\n",
              "      <td>...</td>\n",
              "      <td>...</td>\n",
              "      <td>...</td>\n",
              "      <td>...</td>\n",
              "      <td>...</td>\n",
              "      <td>...</td>\n",
              "      <td>...</td>\n",
              "      <td>...</td>\n",
              "      <td>...</td>\n",
              "      <td>...</td>\n",
              "      <td>...</td>\n",
              "      <td>...</td>\n",
              "      <td>...</td>\n",
              "      <td>...</td>\n",
              "      <td>...</td>\n",
              "      <td>...</td>\n",
              "      <td>...</td>\n",
              "      <td>...</td>\n",
              "      <td>...</td>\n",
              "      <td>...</td>\n",
              "      <td>...</td>\n",
              "      <td>...</td>\n",
              "      <td>...</td>\n",
              "      <td>...</td>\n",
              "      <td>...</td>\n",
              "      <td>...</td>\n",
              "      <td>...</td>\n",
              "      <td>...</td>\n",
              "      <td>...</td>\n",
              "      <td>...</td>\n",
              "      <td>...</td>\n",
              "      <td>...</td>\n",
              "      <td>...</td>\n",
              "      <td>...</td>\n",
              "      <td>...</td>\n",
              "      <td>...</td>\n",
              "      <td>...</td>\n",
              "      <td>...</td>\n",
              "      <td>...</td>\n",
              "      <td>...</td>\n",
              "      <td>...</td>\n",
              "      <td>...</td>\n",
              "      <td>...</td>\n",
              "      <td>...</td>\n",
              "      <td>...</td>\n",
              "      <td>...</td>\n",
              "      <td>...</td>\n",
              "      <td>...</td>\n",
              "      <td>...</td>\n",
              "      <td>...</td>\n",
              "      <td>...</td>\n",
              "      <td>...</td>\n",
              "      <td>...</td>\n",
              "      <td>...</td>\n",
              "      <td>...</td>\n",
              "      <td>...</td>\n",
              "      <td>...</td>\n",
              "      <td>...</td>\n",
              "      <td>...</td>\n",
              "      <td>...</td>\n",
              "      <td>...</td>\n",
              "      <td>...</td>\n",
              "      <td>...</td>\n",
              "    </tr>\n",
              "    <tr>\n",
              "      <th>101201</th>\n",
              "      <td>2013-10-13</td>\n",
              "      <td>MountGambier</td>\n",
              "      <td>9.0</td>\n",
              "      <td>14.5</td>\n",
              "      <td>0.4</td>\n",
              "      <td>4.4</td>\n",
              "      <td>8.6</td>\n",
              "      <td>SW</td>\n",
              "      <td>76.0</td>\n",
              "      <td>W</td>\n",
              "      <td>SSW</td>\n",
              "      <td>26.0</td>\n",
              "      <td>41.0</td>\n",
              "      <td>70.0</td>\n",
              "      <td>49.0</td>\n",
              "      <td>1005.0</td>\n",
              "      <td>1011.7</td>\n",
              "      <td>3.0</td>\n",
              "      <td>6.0</td>\n",
              "      <td>12.8</td>\n",
              "      <td>11.9</td>\n",
              "      <td>No</td>\n",
              "      <td>9.0</td>\n",
              "      <td>9.0</td>\n",
              "      <td>14.5</td>\n",
              "      <td>14.5</td>\n",
              "      <td>0.4</td>\n",
              "      <td>0.4</td>\n",
              "      <td>26.0</td>\n",
              "      <td>26.0</td>\n",
              "      <td>70.0</td>\n",
              "      <td>70.0</td>\n",
              "      <td>49.0</td>\n",
              "      <td>49.0</td>\n",
              "      <td>12.8</td>\n",
              "      <td>12.8</td>\n",
              "      <td>11.9</td>\n",
              "      <td>11.9</td>\n",
              "      <td>MountGambier</td>\n",
              "      <td>SW</td>\n",
              "      <td>W</td>\n",
              "      <td>SSW</td>\n",
              "      <td>No</td>\n",
              "      <td>22</td>\n",
              "      <td>12</td>\n",
              "      <td>13</td>\n",
              "      <td>11</td>\n",
              "      <td>0</td>\n",
              "      <td>22</td>\n",
              "      <td>12</td>\n",
              "      <td>13</td>\n",
              "      <td>11</td>\n",
              "      <td>0</td>\n",
              "      <td>9.0</td>\n",
              "      <td>14.5</td>\n",
              "      <td>0.4</td>\n",
              "      <td>76.0</td>\n",
              "      <td>26.0</td>\n",
              "      <td>41.0</td>\n",
              "      <td>70.0</td>\n",
              "      <td>49.0</td>\n",
              "      <td>1005.0</td>\n",
              "      <td>1011.7</td>\n",
              "      <td>12.8</td>\n",
              "      <td>11.9</td>\n",
              "    </tr>\n",
              "    <tr>\n",
              "      <th>80186</th>\n",
              "      <td>2015-04-06</td>\n",
              "      <td>Watsonia</td>\n",
              "      <td>10.6</td>\n",
              "      <td>20.0</td>\n",
              "      <td>0.0</td>\n",
              "      <td>4.0</td>\n",
              "      <td>1.3</td>\n",
              "      <td>SW</td>\n",
              "      <td>22.0</td>\n",
              "      <td>NW</td>\n",
              "      <td>SSW</td>\n",
              "      <td>7.0</td>\n",
              "      <td>11.0</td>\n",
              "      <td>65.0</td>\n",
              "      <td>38.0</td>\n",
              "      <td>1007.1</td>\n",
              "      <td>1005.5</td>\n",
              "      <td>7.0</td>\n",
              "      <td>7.0</td>\n",
              "      <td>13.6</td>\n",
              "      <td>18.0</td>\n",
              "      <td>No</td>\n",
              "      <td>10.6</td>\n",
              "      <td>10.6</td>\n",
              "      <td>20.0</td>\n",
              "      <td>20.0</td>\n",
              "      <td>0.0</td>\n",
              "      <td>0.0</td>\n",
              "      <td>7.0</td>\n",
              "      <td>7.0</td>\n",
              "      <td>65.0</td>\n",
              "      <td>65.0</td>\n",
              "      <td>38.0</td>\n",
              "      <td>38.0</td>\n",
              "      <td>13.6</td>\n",
              "      <td>13.6</td>\n",
              "      <td>18.0</td>\n",
              "      <td>18.0</td>\n",
              "      <td>Watsonia</td>\n",
              "      <td>SW</td>\n",
              "      <td>NW</td>\n",
              "      <td>SSW</td>\n",
              "      <td>No</td>\n",
              "      <td>44</td>\n",
              "      <td>12</td>\n",
              "      <td>7</td>\n",
              "      <td>11</td>\n",
              "      <td>0</td>\n",
              "      <td>44</td>\n",
              "      <td>12</td>\n",
              "      <td>7</td>\n",
              "      <td>11</td>\n",
              "      <td>0</td>\n",
              "      <td>10.6</td>\n",
              "      <td>20.0</td>\n",
              "      <td>0.0</td>\n",
              "      <td>22.0</td>\n",
              "      <td>7.0</td>\n",
              "      <td>11.0</td>\n",
              "      <td>65.0</td>\n",
              "      <td>38.0</td>\n",
              "      <td>1007.1</td>\n",
              "      <td>1005.5</td>\n",
              "      <td>13.6</td>\n",
              "      <td>18.0</td>\n",
              "    </tr>\n",
              "    <tr>\n",
              "      <th>86293</th>\n",
              "      <td>2015-01-01</td>\n",
              "      <td>Brisbane</td>\n",
              "      <td>25.2</td>\n",
              "      <td>31.3</td>\n",
              "      <td>12.2</td>\n",
              "      <td>7.0</td>\n",
              "      <td>12.1</td>\n",
              "      <td>E</td>\n",
              "      <td>26.0</td>\n",
              "      <td>NNE</td>\n",
              "      <td>NE</td>\n",
              "      <td>6.0</td>\n",
              "      <td>13.0</td>\n",
              "      <td>67.0</td>\n",
              "      <td>64.0</td>\n",
              "      <td>1014.9</td>\n",
              "      <td>1012.7</td>\n",
              "      <td>5.0</td>\n",
              "      <td>4.0</td>\n",
              "      <td>29.4</td>\n",
              "      <td>30.2</td>\n",
              "      <td>Yes</td>\n",
              "      <td>25.2</td>\n",
              "      <td>25.2</td>\n",
              "      <td>31.3</td>\n",
              "      <td>31.3</td>\n",
              "      <td>12.2</td>\n",
              "      <td>12.2</td>\n",
              "      <td>6.0</td>\n",
              "      <td>6.0</td>\n",
              "      <td>67.0</td>\n",
              "      <td>67.0</td>\n",
              "      <td>64.0</td>\n",
              "      <td>64.0</td>\n",
              "      <td>29.4</td>\n",
              "      <td>29.4</td>\n",
              "      <td>30.2</td>\n",
              "      <td>30.2</td>\n",
              "      <td>Brisbane</td>\n",
              "      <td>E</td>\n",
              "      <td>NNE</td>\n",
              "      <td>NE</td>\n",
              "      <td>Yes</td>\n",
              "      <td>7</td>\n",
              "      <td>0</td>\n",
              "      <td>5</td>\n",
              "      <td>4</td>\n",
              "      <td>1</td>\n",
              "      <td>7</td>\n",
              "      <td>0</td>\n",
              "      <td>5</td>\n",
              "      <td>4</td>\n",
              "      <td>1</td>\n",
              "      <td>25.2</td>\n",
              "      <td>31.3</td>\n",
              "      <td>12.2</td>\n",
              "      <td>26.0</td>\n",
              "      <td>6.0</td>\n",
              "      <td>13.0</td>\n",
              "      <td>67.0</td>\n",
              "      <td>64.0</td>\n",
              "      <td>1014.9</td>\n",
              "      <td>1012.7</td>\n",
              "      <td>29.4</td>\n",
              "      <td>30.2</td>\n",
              "    </tr>\n",
              "    <tr>\n",
              "      <th>122579</th>\n",
              "      <td>2014-01-21</td>\n",
              "      <td>Perth</td>\n",
              "      <td>20.0</td>\n",
              "      <td>38.0</td>\n",
              "      <td>0.0</td>\n",
              "      <td>15.2</td>\n",
              "      <td>13.2</td>\n",
              "      <td>E</td>\n",
              "      <td>43.0</td>\n",
              "      <td>ESE</td>\n",
              "      <td>SE</td>\n",
              "      <td>17.0</td>\n",
              "      <td>15.0</td>\n",
              "      <td>49.0</td>\n",
              "      <td>26.0</td>\n",
              "      <td>1008.8</td>\n",
              "      <td>1004.6</td>\n",
              "      <td>0.0</td>\n",
              "      <td>0.0</td>\n",
              "      <td>26.1</td>\n",
              "      <td>36.7</td>\n",
              "      <td>No</td>\n",
              "      <td>20.0</td>\n",
              "      <td>20.0</td>\n",
              "      <td>38.0</td>\n",
              "      <td>38.0</td>\n",
              "      <td>0.0</td>\n",
              "      <td>0.0</td>\n",
              "      <td>17.0</td>\n",
              "      <td>17.0</td>\n",
              "      <td>49.0</td>\n",
              "      <td>49.0</td>\n",
              "      <td>26.0</td>\n",
              "      <td>26.0</td>\n",
              "      <td>26.1</td>\n",
              "      <td>26.1</td>\n",
              "      <td>36.7</td>\n",
              "      <td>36.7</td>\n",
              "      <td>Perth</td>\n",
              "      <td>E</td>\n",
              "      <td>ESE</td>\n",
              "      <td>SE</td>\n",
              "      <td>No</td>\n",
              "      <td>31</td>\n",
              "      <td>0</td>\n",
              "      <td>2</td>\n",
              "      <td>9</td>\n",
              "      <td>0</td>\n",
              "      <td>31</td>\n",
              "      <td>0</td>\n",
              "      <td>2</td>\n",
              "      <td>9</td>\n",
              "      <td>0</td>\n",
              "      <td>20.0</td>\n",
              "      <td>38.0</td>\n",
              "      <td>0.0</td>\n",
              "      <td>43.0</td>\n",
              "      <td>17.0</td>\n",
              "      <td>15.0</td>\n",
              "      <td>49.0</td>\n",
              "      <td>26.0</td>\n",
              "      <td>1008.8</td>\n",
              "      <td>1004.6</td>\n",
              "      <td>26.1</td>\n",
              "      <td>36.7</td>\n",
              "    </tr>\n",
              "    <tr>\n",
              "      <th>117952</th>\n",
              "      <td>2009-11-20</td>\n",
              "      <td>PerthAirport</td>\n",
              "      <td>11.9</td>\n",
              "      <td>22.0</td>\n",
              "      <td>3.8</td>\n",
              "      <td>6.2</td>\n",
              "      <td>7.7</td>\n",
              "      <td>SSW</td>\n",
              "      <td>35.0</td>\n",
              "      <td>SSE</td>\n",
              "      <td>WNW</td>\n",
              "      <td>19.0</td>\n",
              "      <td>24.0</td>\n",
              "      <td>55.0</td>\n",
              "      <td>49.0</td>\n",
              "      <td>1020.0</td>\n",
              "      <td>1018.5</td>\n",
              "      <td>7.0</td>\n",
              "      <td>6.0</td>\n",
              "      <td>17.1</td>\n",
              "      <td>19.7</td>\n",
              "      <td>Yes</td>\n",
              "      <td>11.9</td>\n",
              "      <td>11.9</td>\n",
              "      <td>22.0</td>\n",
              "      <td>22.0</td>\n",
              "      <td>3.8</td>\n",
              "      <td>3.8</td>\n",
              "      <td>19.0</td>\n",
              "      <td>19.0</td>\n",
              "      <td>55.0</td>\n",
              "      <td>55.0</td>\n",
              "      <td>49.0</td>\n",
              "      <td>49.0</td>\n",
              "      <td>17.1</td>\n",
              "      <td>17.1</td>\n",
              "      <td>19.7</td>\n",
              "      <td>19.7</td>\n",
              "      <td>PerthAirport</td>\n",
              "      <td>SSW</td>\n",
              "      <td>SSE</td>\n",
              "      <td>WNW</td>\n",
              "      <td>Yes</td>\n",
              "      <td>32</td>\n",
              "      <td>11</td>\n",
              "      <td>10</td>\n",
              "      <td>14</td>\n",
              "      <td>1</td>\n",
              "      <td>32</td>\n",
              "      <td>11</td>\n",
              "      <td>10</td>\n",
              "      <td>14</td>\n",
              "      <td>1</td>\n",
              "      <td>11.9</td>\n",
              "      <td>22.0</td>\n",
              "      <td>3.8</td>\n",
              "      <td>35.0</td>\n",
              "      <td>19.0</td>\n",
              "      <td>24.0</td>\n",
              "      <td>55.0</td>\n",
              "      <td>49.0</td>\n",
              "      <td>1020.0</td>\n",
              "      <td>1018.5</td>\n",
              "      <td>17.1</td>\n",
              "      <td>19.7</td>\n",
              "    </tr>\n",
              "  </tbody>\n",
              "</table>\n",
              "<p>39567 rows × 65 columns</p>\n",
              "</div>"
            ],
            "text/plain": [
              "              Date       Location  ...  Temp9am_knn_imp  Temp3pm_knn_imp\n",
              "139678  2010-01-19         Darwin  ...             29.0             31.4\n",
              "137661  2013-07-07   AliceSprings  ...             10.1             20.1\n",
              "140525  2012-06-14         Darwin  ...             23.7             27.2\n",
              "22120   2011-10-29  NorfolkIsland  ...             19.3             19.7\n",
              "85324   2012-03-09       Brisbane  ...             25.1             30.7\n",
              "...            ...            ...  ...              ...              ...\n",
              "101201  2013-10-13   MountGambier  ...             12.8             11.9\n",
              "80186   2015-04-06       Watsonia  ...             13.6             18.0\n",
              "86293   2015-01-01       Brisbane  ...             29.4             30.2\n",
              "122579  2014-01-21          Perth  ...             26.1             36.7\n",
              "117952  2009-11-20   PerthAirport  ...             17.1             19.7\n",
              "\n",
              "[39567 rows x 65 columns]"
            ]
          },
          "metadata": {
            "tags": []
          },
          "execution_count": 61
        }
      ]
    },
    {
      "cell_type": "markdown",
      "metadata": {
        "id": "IpzB-3jkGBHw"
      },
      "source": [
        ""
      ]
    },
    {
      "cell_type": "code",
      "metadata": {
        "colab": {
          "base_uri": "https://localhost:8080/"
        },
        "id": "ihKnX1dMnwo5",
        "outputId": "e7350137-02d3-4f80-d9a9-caa6502f7f53"
      },
      "source": [
        ""
      ],
      "execution_count": null,
      "outputs": [
        {
          "output_type": "execute_result",
          "data": {
            "text/plain": [
              "0    99550\n",
              "dtype: int64"
            ]
          },
          "metadata": {
            "tags": []
          },
          "execution_count": 49
        }
      ]
    },
    {
      "cell_type": "code",
      "metadata": {
        "id": "-NE__zrjqams"
      },
      "source": [
        ""
      ],
      "execution_count": 19,
      "outputs": []
    },
    {
      "cell_type": "code",
      "metadata": {
        "id": "a9LeXBzzre_W"
      },
      "source": [
        ""
      ],
      "execution_count": null,
      "outputs": []
    }
  ]
}